{
  "cells": [
    {
      "cell_type": "markdown",
      "metadata": {
        "collapsed": true,
        "pycharm": {}
      },
      "source": [
        "In this jupyter I try to assign a numerical value to every card in hearthstone.\u003cbr\u003e\n",
        "The result should be a dictionary where keys are cards names and values are their numbers.",
        "\n",
        ""
      ]
    },
    {
      "cell_type": "markdown",
      "metadata": {
        "pycharm": {}
      },
      "source": [
        "type:\u003cbr\u003e\n",
        "MINION -\u003e 1 - 2000\u003cbr\u003e\n",
        "SPELL -\u003e 2001 - 4000\u003cbr\u003e\n",
        "ENCHANTMENT -\u003e 4001 - 6000\u003cbr\u003e\n",
        "WEAPON -\u003e 6001 - 8000\u003cbr\u003e\n",
        "HERO_POWER -\u003e 8001 - 10000\u003cbr\u003e\n",
        "HERO -\u003e 10001 - 12000 "
      ]
    },
    {
      "cell_type": "markdown",
      "metadata": {
        "pycharm": {}
      },
      "source": [
        "Within a type there is cardClass:\u003cbr\u003e\n",
        "NEUTRAL -\u003e 1 - 1000\u003cbr\u003e\n",
        "INVALID -\u003e 1001 - 1075\u003cbr\u003e\n",
        "DEATHKNIGHT -\u003e 1076 - 1150\u003cbr\u003e\n",
        "DRUID -\u003e 1151 - 1225\u003cbr\u003e\n",
        "HUNTER -\u003e 1226 - 1300\u003cbr\u003e\n",
        "MAGE -\u003e 1301 - 1375\u003cbr\u003e\n",
        "PALADIN -\u003e 1376 - 1450\u003cbr\u003e\n",
        "PRIEST -\u003e 1451 - 1525\u003cbr\u003e\n",
        "ROGUE -\u003e 1526 - 1600\u003cbr\u003e\n",
        "SHAMAN -\u003e 1601 - 1675\u003cbr\u003e\n",
        "WARLOCK -\u003e 1676 - 1750\u003cbr\u003e\n",
        "WARRIOR -\u003e 1751 - 1825\u003cbr\u003e\n",
        "DREAM -\u003e 1826 - 1900\u003cbr\u003e"
      ]
    },
    {
      "cell_type": "markdown",
      "metadata": {
        "pycharm": {}
      },
      "source": [
        "Within a cardClass cards are sorted by their cost"
      ]
    },
    {
      "cell_type": "code",
      "execution_count": 7,
      "metadata": {
        "pycharm": {}
      },
      "outputs": [],
      "source": [
        "import numpy as np"
      ]
    },
    {
      "cell_type": "code",
      "execution_count": 8,
      "metadata": {
        "pycharm": {}
      },
      "outputs": [],
      "source": [
        "current_values \u003d np.ones((6, 13), dtype\u003dint)\n",
        "\n",
        "next_value \u003d 1\n",
        "for i in range(6):\n",
        "    current_values[i, 0] \u003d next_value\n",
        "    \n",
        "    next_set \u003d next_value + 1000\n",
        "    for j in range(1, 13):\n",
        "        current_values[i, j] \u003d next_set\n",
        "        next_set \u003d next_set + 75\n",
        "        \n",
        "    next_value \u003d next_value + 2000"
      ]
    },
    {
      "cell_type": "code",
      "execution_count": 9,
      "metadata": {
        "pycharm": {}
      },
      "outputs": [
        {
          "data": {
            "text/plain": [
              "array([[    1,  1001,  1076,  1151,  1226,  1301,  1376,  1451,  1526,\n         1601,  1676,  1751,  1826],\n       [ 2001,  3001,  3076,  3151,  3226,  3301,  3376,  3451,  3526,\n         3601,  3676,  3751,  3826],\n       [ 4001,  5001,  5076,  5151,  5226,  5301,  5376,  5451,  5526,\n         5601,  5676,  5751,  5826],\n       [ 6001,  7001,  7076,  7151,  7226,  7301,  7376,  7451,  7526,\n         7601,  7676,  7751,  7826],\n       [ 8001,  9001,  9076,  9151,  9226,  9301,  9376,  9451,  9526,\n         9601,  9676,  9751,  9826],\n       [10001, 11001, 11076, 11151, 11226, 11301, 11376, 11451, 11526,\n        11601, 11676, 11751, 11826]])"
            ]
          },
          "execution_count": 9,
          "metadata": {},
          "output_type": "execute_result"
        }
      ],
      "source": [
        "current_values"
      ]
    },
    {
      "cell_type": "code",
      "execution_count": 10,
      "metadata": {
        "pycharm": {}
      },
      "outputs": [],
      "source": [
        "validation_array \u003d np.copy(current_values)\n",
        "\n",
        "for i in range(6):\n",
        "    for j in range(12):\n",
        "        validation_array[i][j] \u003d validation_array[i][j + 1] - 1\n",
        "     \n",
        "for i in range(5):   \n",
        "    validation_array[i][12] \u003d current_values[i + 1][0] - 1"
      ]
    },
    {
      "cell_type": "code",
      "execution_count": 11,
      "metadata": {
        "pycharm": {}
      },
      "outputs": [
        {
          "data": {
            "text/plain": [
              "array([[ 1000,  1075,  1150,  1225,  1300,  1375,  1450,  1525,  1600,\n         1675,  1750,  1825,  2000],\n       [ 3000,  3075,  3150,  3225,  3300,  3375,  3450,  3525,  3600,\n         3675,  3750,  3825,  4000],\n       [ 5000,  5075,  5150,  5225,  5300,  5375,  5450,  5525,  5600,\n         5675,  5750,  5825,  6000],\n       [ 7000,  7075,  7150,  7225,  7300,  7375,  7450,  7525,  7600,\n         7675,  7750,  7825,  8000],\n       [ 9000,  9075,  9150,  9225,  9300,  9375,  9450,  9525,  9600,\n         9675,  9750,  9825, 10000],\n       [11000, 11075, 11150, 11225, 11300, 11375, 11450, 11525, 11600,\n        11675, 11750, 11825, 11826]])"
            ]
          },
          "execution_count": 11,
          "metadata": {},
          "output_type": "execute_result"
        }
      ],
      "source": [
        "validation_array"
      ]
    },
    {
      "cell_type": "code",
      "execution_count": 12,
      "metadata": {
        "collapsed": false,
        "pycharm": {}
      },
      "outputs": [],
      "source": [
        "import json\n",
        "\n",
        "data \u003d json.load(open(\u0027cards.json\u0027))"
      ]
    },
    {
      "cell_type": "code",
      "execution_count": 13,
      "metadata": {
        "pycharm": {}
      },
      "outputs": [],
      "source": [
        "to_remove \u003d []\n",
        "for i in range(len(data)):\n",
        "    if \u0027cost\u0027 not in data[i]:\n",
        "        to_remove.append(i)\n",
        "        \n",
        "to_remove.reverse()\n",
        "\n",
        "for i in to_remove:\n",
        "    data.pop(i)"
      ]
    },
    {
      "cell_type": "code",
      "execution_count": 14,
      "metadata": {
        "pycharm": {}
      },
      "outputs": [],
      "source": [
        "from operator import itemgetter\n",
        "\n",
        "#data.sort(key\u003dlambda item: item[\u0027cost\u0027])\n",
        "data.sort(key\u003ditemgetter(\u0027cost\u0027))\n",
        "#new_data \u003d sorted(data, key\u003ditemgetter(\u0027cost\u0027))"
      ]
    },
    {
      "cell_type": "code",
      "execution_count": 15,
      "metadata": {
        "pycharm": {}
      },
      "outputs": [
        {
          "data": {
            "text/plain": [
              "{\u0027artist\u0027: \u0027Glenn Rane\u0027,\n \u0027attack\u0027: 8,\n \u0027cardClass\u0027: \u0027NEUTRAL\u0027,\n \u0027collectible\u0027: True,\n \u0027cost\u0027: 20,\n \u0027dbfId\u0027: 1372,\n \u0027flavor\u0027: \u0027He gets terrible heartburn.  BECAUSE HE IS FULL OF LAVA.\u0027,\n \u0027health\u0027: 8,\n \u0027id\u0027: \u0027EX1_620\u0027,\n \u0027name\u0027: \u0027Molten Giant\u0027,\n \u0027rarity\u0027: \u0027EPIC\u0027,\n \u0027text\u0027: \u0027Costs (1) less for each damage your hero has taken.\u0027,\n \u0027type\u0027: \u0027MINION\u0027}"
            ]
          },
          "execution_count": 15,
          "metadata": {},
          "output_type": "execute_result"
        }
      ],
      "source": [
        "data[1593]"
      ]
    },
    {
      "cell_type": "code",
      "execution_count": 16,
      "metadata": {
        "pycharm": {}
      },
      "outputs": [],
      "source": [
        "from enum import IntEnum\n",
        "\n",
        "\n",
        "class CardClass(IntEnum):\n",
        "    NEUTRAL \u003d 0\n",
        "    INVALID \u003d 1\n",
        "    DEATHKNIGHT \u003d 2\n",
        "    DRUID \u003d 3\n",
        "    HUNTER \u003d 4\n",
        "    MAGE \u003d 5\n",
        "    PALADIN \u003d 6\n",
        "    PRIEST \u003d 7\n",
        "    ROGUE \u003d 8\n",
        "    SHAMAN \u003d 9\n",
        "    WARLOCK \u003d 10\n",
        "    WARRIOR \u003d 11\n",
        "    DREAM \u003d 12"
      ]
    },
    {
      "cell_type": "code",
      "execution_count": 17,
      "metadata": {
        "pycharm": {}
      },
      "outputs": [],
      "source": [
        "class CardType(IntEnum):\n",
        "    MINION \u003d 0\n",
        "    SPELL \u003d 1\n",
        "    ENCHANTMENT \u003d 2\n",
        "    WEAPON \u003d 3\n",
        "    HERO_POWER \u003d 4\n",
        "    HERO \u003d 5"
      ]
    },
    {
      "cell_type": "code",
      "execution_count": 18,
      "metadata": {
        "pycharm": {}
      },
      "outputs": [],
      "source": "cart_codes \u003d {}\n\nfor i in range(len(data)):\n    cart_codes[data[i][\u0027name\u0027]] \u003d current_values[CardType[data[i][\u0027type\u0027]]][CardClass[data[i][\u0027cardClass\u0027]]]\n    current_values[CardType[data[i][\u0027type\u0027]]][CardClass[data[i][\u0027cardClass\u0027]]] \u003d\\\n        current_values[CardType[data[i][\u0027type\u0027]]][CardClass[data[i][\u0027cardClass\u0027]]] + 1"
    },
    {
      "cell_type": "code",
      "execution_count": 20,
      "metadata": {
        "pycharm": {}
      },
      "outputs": [],
      "source": "validation_test \u003d np.greater(validation_array, current_values)"
    },
    {
      "cell_type": "code",
      "execution_count": 21,
      "metadata": {
        "pycharm": {}
      },
      "outputs": [
        {
          "data": {
            "text/plain": [
              "array([[ True,  True,  True,  True,  True,  True,  True,  True,  True,\n         True,  True,  True,  True],\n       [ True,  True,  True,  True,  True,  True,  True,  True,  True,\n         True,  True,  True,  True],\n       [ True,  True,  True,  True,  True,  True,  True,  True,  True,\n         True,  True,  True,  True],\n       [ True,  True,  True,  True,  True,  True,  True,  True,  True,\n         True,  True,  True,  True],\n       [ True,  True,  True,  True,  True,  True,  True,  True,  True,\n         True,  True,  True,  True],\n       [ True,  True,  True,  True,  True,  True,  True,  True,  True,\n         True,  True,  True, False]])"
            ]
          },
          "execution_count": 21,
          "metadata": {},
          "output_type": "execute_result"
        }
      ],
      "source": "validation_test"
    },
    {
      "cell_type": "code",
      "execution_count": null,
      "outputs": [],
      "source": "import pandas as pd\n\ntraining_decks \u003d pd.read_json(open(\u0027trainingDecks.json\u0027), lines\u003dTrue)",
      "metadata": {
        "pycharm": {
          "metadata": false,
          "name": "#%%\n"
        }
      }
    },
    {
      "cell_type": "code",
      "execution_count": 16,
      "metadata": {
        "pycharm": {}
      },
      "outputs": [
        {
          "data": {
            "text/plain": [
              "1677"
            ]
          },
          "execution_count": 16,
          "metadata": {},
          "output_type": "execute_result"
        }
      ],
      "source": "cart_codes[\u0027Voidwalker\u0027]"
    },
    {
      "cell_type": "code",
      "execution_count": 21,
      "metadata": {
        "pycharm": {}
      },
      "outputs": [
        {
          "data": {
            "text/plain": [
              "[(\u0027Armorsmith\u0027, [2]),\n (\u0027Execute\u0027, [2]),\n (\u0027Bash\u0027, [2]),\n (\u0027Drywhisker Armorer\u0027, [1]),\n (\"Dead Man\u0027s Hand\", [1]),\n (\u0027Shield Block\u0027, [1]),\n (\u0027Blood Razor\u0027, [2]),\n (\u0027Shield Slam\u0027, [2]),\n (\u0027Cornered Sentry\u0027, [1]),\n (\u0027Whirlwind\u0027, [1]),\n (\u0027Novice Engineer\u0027, [2]),\n (\u0027Fierce Monkey\u0027, [1]),\n (\u0027Shieldbearer\u0027, [1]),\n (\u0027Frostwolf Warlord\u0027, [1]),\n (\u0027Mortal Strike\u0027, [1]),\n (\u0027Acolyte of Pain\u0027, [2]),\n (\u0027Sleep with the Fishes\u0027, [1]),\n (\u0027Cleave\u0027, [1]),\n (\u0027Scourgelord Garrosh\u0027, [1]),\n (\u0027Dirty Rat\u0027, [1]),\n (\u0027Unidentified Shield\u0027, [2]),\n (\u0027Brawl\u0027, [1])]"
            ]
          },
          "execution_count": 21,
          "metadata": {},
          "output_type": "execute_result"
        }
      ],
      "source": [
        "list(training_decks.iloc[0, 0].items())"
      ]
    },
    {
      "cell_type": "code",
      "execution_count": 68,
      "metadata": {
        "collapsed": true,
        "pycharm": {}
      },
      "outputs": [
        {
          "data": {
            "text/plain": [
              "[]"
            ]
          },
          "execution_count": 68,
          "metadata": {},
          "output_type": "execute_result"
        }
      ],
      "source": "new_training_decks \u003d [[]]\n\nfor index, row in training_decks.iterrows():\n    deck_representnion \u003d []\n    \n    for key, value in row[\u0027cards\u0027].items():\n        deck_representnion.append(cart_codes[key])\n        \n        if value[0] \u003d\u003d 2:\n             deck_representnion.append(cart_codes[key])\n             \n    deck_representnion.sort()\n    new_training_decks.append(deck_representnion)\n    \nnew_training_decks.pop(0)"
    },
    {
      "cell_type": "code",
      "execution_count": 86,
      "metadata": {
        "pycharm": {}
      },
      "outputs": [],
      "source": "decks \u003d pd.read_csv(\u0027decks.csv\u0027, index_col\u003d0)"
    },
    {
      "cell_type": "code",
      "execution_count": 89,
      "metadata": {
        "pycharm": {}
      },
      "outputs": [],
      "source": "import pandas as pd\n\ntest \u003d pd.DataFrame(new_training_decks, columns\u003drange(1, 31), index\u003dtraining_decks[\u0027deckName\u0027].apply(lambda x: x[0]))\ntest[\u0027Druid\u0027] \u003d decks[\u0027Druid\u0027]\ntest[\u0027Hunter\u0027] \u003d decks[\u0027Hunter\u0027]\ntest[\u0027Mage\u0027] \u003d decks[\u0027Mage\u0027]\ntest[\u0027Paladin\u0027] \u003d decks[\u0027Paladin\u0027]\ntest[\u0027Priest\u0027] \u003d decks[\u0027Priest\u0027]\ntest[\u0027Rogue\u0027] \u003d decks[\u0027Rogue\u0027]\ntest[\u0027Shaman\u0027] \u003d decks[\u0027Shaman\u0027]\ntest[\u0027Warlock\u0027] \u003d decks[\u0027Warlock\u0027]\ntest[\u0027Warrior\u0027] \u003d decks[\u0027Warrior\u0027]\n\ntest[\u0027prob\u0027] \u003d decks[\u0027prob\u0027]\ntest[\u0027prob_A1\u0027] \u003d decks[\u0027prob_A1\u0027]\ntest[\u0027prob_A2\u0027] \u003d decks[\u0027prob_A2\u0027]\ntest[\u0027prob_B1\u0027] \u003d decks[\u0027prob_B1\u0027]\ntest[\u0027prob_B2\u0027] \u003d decks[\u0027prob_B2\u0027]"
    },
    {
      "cell_type": "code",
      "execution_count": null,
      "metadata": {
        "pycharm": {}
      },
      "outputs": [],
      "source": "test.to_csv(\u0027training_decks.csv\u0027)"
    },
    {
      "cell_type": "markdown",
      "metadata": {
        "pycharm": {}
      },
      "source": [
        "Coding test set:",
        "\n"
      ]
    },
    {
      "cell_type": "code",
      "execution_count": 24,
      "metadata": {
        "pycharm": {}
      },
      "outputs": [
        {
          "data": {
            "text/plain": [
              "[]"
            ]
          },
          "execution_count": 24,
          "metadata": {},
          "output_type": "execute_result"
        }
      ],
      "source": "import pandas as pd\n\ntraining_decks \u003d pd.read_json(open(\u0027testDecks.json\u0027), lines\u003dTrue)\n\nnew_training_decks \u003d [[]]\n\nfor index, row in training_decks.iterrows():\n    deck_representnion \u003d []\n    \n    for key, value in row[\u0027cards\u0027].items():\n        deck_representnion.append(cart_codes[key])\n        \n        if value[0] \u003d\u003d 2:\n             deck_representnion.append(cart_codes[key])\n             \n    deck_representnion.sort()\n    new_training_decks.append(deck_representnion)\n    \nnew_training_decks.pop(0)"
    },
    {
      "cell_type": "code",
      "execution_count": 27,
      "metadata": {
        "pycharm": {}
      },
      "outputs": [],
      "source": "decks \u003d pd.read_csv(\u0027X_test.csv\u0027, index_col\u003d0)"
    },
    {
      "cell_type": "code",
      "execution_count": 28,
      "metadata": {
        "pycharm": {}
      },
      "outputs": [],
      "source": "import pandas as pd\n\ntest \u003d pd.DataFrame(new_training_decks, columns\u003drange(1, 31), index\u003dtraining_decks[\u0027deckName\u0027].apply(lambda x: x[0]))\ntest[\u0027Druid\u0027] \u003d decks[\u0027Druid\u0027]\ntest[\u0027Hunter\u0027] \u003d decks[\u0027Hunter\u0027]\ntest[\u0027Mage\u0027] \u003d decks[\u0027Mage\u0027]\ntest[\u0027Paladin\u0027] \u003d decks[\u0027Paladin\u0027]\ntest[\u0027Priest\u0027] \u003d decks[\u0027Priest\u0027]\ntest[\u0027Rogue\u0027] \u003d decks[\u0027Rogue\u0027]\ntest[\u0027Shaman\u0027] \u003d decks[\u0027Shaman\u0027]\ntest[\u0027Warlock\u0027] \u003d decks[\u0027Warlock\u0027]\ntest[\u0027Warrior\u0027] \u003d decks[\u0027Warrior\u0027]"
    },
    {
      "cell_type": "code",
      "execution_count": 32,
      "metadata": {
        "pycharm": {}
      },
      "outputs": [],
      "source": "test.to_csv(\u0027X_test_codes.csv\u0027)"
    },
    {
      "cell_type": "code",
      "execution_count": null,
      "metadata": {
        "pycharm": {}
      },
      "outputs": [],
      "source": []
    }
  ],
  "metadata": {
    "kernelspec": {
      "display_name": "Python 2",
      "language": "python",
      "name": "python2"
    },
    "language_info": {
      "codemirror_mode": {
        "name": "ipython",
        "version": 2
      },
      "file_extension": ".py",
      "mimetype": "text/x-python",
      "name": "python",
      "nbconvert_exporter": "python",
      "pygments_lexer": "ipython2",
      "version": "2.7.6"
    }
  },
  "nbformat": 4,
  "nbformat_minor": 0
}