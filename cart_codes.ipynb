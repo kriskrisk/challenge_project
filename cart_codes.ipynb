{
 "cells": [
  {
   "cell_type": "markdown",
   "metadata": {
    "collapsed": true
   },
   "source": [
    "In this jupyter I try to assign a numerical value to every card in hearthstone.<br>\n",
    "The result should be a dictionary where keys are cards names and values are their numbers.",
    "\n",
    ""
   ]
  },
  {
   "cell_type": "markdown",
   "metadata": {},
   "source": [
    "type:<br>\n",
    "MINION -> 1 - 2000<br>\n",
    "SPELL -> 2001 - 4000<br>\n",
    "ENCHANTMENT -> 4001 - 6000<br>\n",
    "WEAPON -> 6001 - 8000<br>\n",
    "HERO_POWER -> 8001 - 10000<br>\n",
    "HERO -> 10001 - 12000 "
   ]
  },
  {
   "cell_type": "markdown",
   "metadata": {},
   "source": [
    "Within a type there is cardClass:<br>\n",
    "NEUTRAL -> 1 - 1000<br>\n",
    "INVALID -> 1001 - 1075<br>\n",
    "DEATHKNIGHT -> 1076 - 1150<br>\n",
    "DRUID -> 1151 - 1225<br>\n",
    "HUNTER -> 1226 - 1300<br>\n",
    "MAGE -> 1301 - 1375<br>\n",
    "PALADIN -> 1376 - 1450<br>\n",
    "PRIEST -> 1451 - 1525<br>\n",
    "ROGUE -> 1526 - 1600<br>\n",
    "SHAMAN -> 1601 - 1675<br>\n",
    "WARLOCK -> 1676 - 1750<br>\n",
    "WARRIOR -> 1751 - 1825<br>\n",
    "DREAM -> 1826 - 1900<br>"
   ]
  },
  {
   "cell_type": "markdown",
   "metadata": {},
   "source": [
    "Within a cardClass cards are sorted by their cost"
   ]
  },
  {
   "cell_type": "code",
   "execution_count": 1,
   "metadata": {},
   "outputs": [],
   "source": [
    "import numpy as np"
   ]
  },
  {
   "cell_type": "code",
   "execution_count": 2,
   "metadata": {},
   "outputs": [],
   "source": [
    "current_values = np.ones((6, 13), dtype=int)\n",
    "\n",
    "next_value = 1\n",
    "for i in range(6):\n",
    "    current_values[i, 0] = next_value\n",
    "    \n",
    "    next_set = next_value + 1000\n",
    "    for j in range(1, 13):\n",
    "        current_values[i, j] = next_set\n",
    "        next_set = next_set + 75\n",
    "        \n",
    "    next_value = next_value + 2000"
   ]
  },
  {
   "cell_type": "code",
   "execution_count": 3,
   "metadata": {},
   "outputs": [
    {
     "data": {
      "text/plain": [
       "array([[    1,  1001,  1076,  1151,  1226,  1301,  1376,  1451,  1526,\n         1601,  1676,  1751,  1826],\n       [ 2001,  3001,  3076,  3151,  3226,  3301,  3376,  3451,  3526,\n         3601,  3676,  3751,  3826],\n       [ 4001,  5001,  5076,  5151,  5226,  5301,  5376,  5451,  5526,\n         5601,  5676,  5751,  5826],\n       [ 6001,  7001,  7076,  7151,  7226,  7301,  7376,  7451,  7526,\n         7601,  7676,  7751,  7826],\n       [ 8001,  9001,  9076,  9151,  9226,  9301,  9376,  9451,  9526,\n         9601,  9676,  9751,  9826],\n       [10001, 11001, 11076, 11151, 11226, 11301, 11376, 11451, 11526,\n        11601, 11676, 11751, 11826]])"
      ]
     },
     "execution_count": 3,
     "metadata": {},
     "output_type": "execute_result"
    }
   ],
   "source": [
    "current_values"
   ]
  },
  {
   "cell_type": "code",
   "execution_count": 4,
   "metadata": {
    "collapsed": false
   },
   "outputs": [],
   "source": [
    "import json\n",
    "\n",
    "data = json.load(open('cards.json'))"
   ]
  },
  {
   "cell_type": "code",
   "execution_count": 7,
   "metadata": {},
   "outputs": [
    {
     "data": {
      "text/plain": [
       "{'artist': 'Tooth',\n 'cardClass': 'MAGE',\n 'collectible': True,\n 'cost': 3,\n 'dbfId': 2541,\n 'flavor': 'Burning man, brah.',\n 'id': 'AT_002',\n 'mechanics': ['SECRET'],\n 'name': 'Effigy',\n 'rarity': 'RARE',\n 'set': 'TGT',\n 'text': '<b>Secret:</b> When a friendly minion dies, summon a random minion with the same Cost.',\n 'type': 'SPELL'}"
      ]
     },
     "execution_count": 7,
     "metadata": {},
     "output_type": "execute_result"
    }
   ],
   "source": [
    "data[1]"
   ]
  },
  {
   "cell_type": "code",
   "execution_count": 8,
   "metadata": {},
   "outputs": [],
   "source": [
    "from enum import IntEnum\n",
    "\n",
    "\n",
    "class CardClass(IntEnum):\n",
    "    NEUTRAL = 0\n",
    "    INVALID = 1\n",
    "    DEATHKNIGHT = 2\n",
    "    DRUID = 3\n",
    "    HUNTER = 4\n",
    "    MAGE = 5\n",
    "    PALADIN = 6\n",
    "    PRIEST = 7\n",
    "    ROGUE = 8\n",
    "    SHAMAN = 9\n",
    "    WARLOCK = 10\n",
    "    WARRIOR = 11\n",
    "    DREAM = 12"
   ]
  },
  {
   "cell_type": "code",
   "execution_count": 10,
   "metadata": {},
   "outputs": [],
   "source": [
    "class CardType(IntEnum):\n",
    "    MINION = 0\n",
    "    SPELL = 1\n",
    "    ENCHANTMENT = 2\n",
    "    WEAPON = 3\n",
    "    HERO_POWER = 4\n",
    "    HERO = 5"
   ]
  },
  {
   "cell_type": "code",
   "execution_count": 16,
   "metadata": {},
   "outputs": [
    {
     "data": {
      "text/plain": [
       "11826"
      ]
     },
     "execution_count": 16,
     "metadata": {},
     "output_type": "execute_result"
    }
   ],
   "source": [
    "current_values[CardType.HERO][CardClass.DREAM]"
   ]
  },
  {
   "cell_type": "code",
   "execution_count": 17,
   "metadata": {},
   "outputs": [
    {
     "data": {
      "text/plain": [
       "1614"
      ]
     },
     "execution_count": 17,
     "metadata": {},
     "output_type": "execute_result"
    }
   ],
   "source": [
    "len(data)"
   ]
  },
  {
   "cell_type": "code",
   "execution_count": null,
   "metadata": {},
   "outputs": [],
   "source": [
    "for i in range(len(data)):\n",
    "    "
   ]
  }
 ],
 "metadata": {
  "kernelspec": {
   "display_name": "Python 2",
   "language": "python",
   "name": "python2"
  },
  "language_info": {
   "codemirror_mode": {
    "name": "ipython",
    "version": 2
   },
   "file_extension": ".py",
   "mimetype": "text/x-python",
   "name": "python",
   "nbconvert_exporter": "python",
   "pygments_lexer": "ipython2",
   "version": "2.7.6"
  }
 },
 "nbformat": 4,
 "nbformat_minor": 0
}
