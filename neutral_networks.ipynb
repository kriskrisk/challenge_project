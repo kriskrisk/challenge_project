{
 "cells": [
  {
   "cell_type": "code",
   "execution_count": 1,
   "metadata": {
    "collapsed": true
   },
   "outputs": [
    {
     "name": "stderr",
     "output_type": "stream",
     "text": [
      "/home/kris/PycharmProjects/SUS/lab1/venv/lib/python3.5/site-packages/h5py/__init__.py:36: FutureWarning: Conversion of the second argument of issubdtype from `float` to `np.floating` is deprecated. In future, it will be treated as `np.float64 == np.dtype(float).type`.\n  from ._conv import register_converters as _register_converters\nUsing TensorFlow backend.\n"
     ]
    }
   ],
   "source": [
    "import pandas as pd\n",
    "import numpy as np\n",
    "from sklearn.model_selection import train_test_split\n",
    "from sklearn.naive_bayes import MultinomialNB\n",
    "\n",
    "import operator\n",
    "import csv\n",
    "import matplotlib.pyplot as plt\n",
    "\n",
    "import keras\n",
    "from keras.models import Sequential\n",
    "\n",
    "from keras.layers import Dense, Dropout, Activation, Flatten\n",
    "from keras.layers import Conv1D, MaxPooling1D\n",
    "from keras.callbacks import History"
   ]
  },
  {
   "cell_type": "code",
   "execution_count": 6,
   "metadata": {},
   "outputs": [],
   "source": [
    "with open('X_train.csv', 'r') as csvfile:\n",
    "    X_train = pd.read_csv(csvfile, index_col=0)"
   ]
  },
  {
   "cell_type": "code",
   "execution_count": 7,
   "metadata": {},
   "outputs": [
    {
     "name": "stdout",
     "output_type": "stream",
     "text": [
      "(1000, 686)\n"
     ]
    }
   ],
   "source": [
    "print(X_train.shape)"
   ]
  },
  {
   "cell_type": "code",
   "execution_count": 8,
   "metadata": {},
   "outputs": [
    {
     "name": "stdout",
     "output_type": "stream",
     "text": [
      "    Abyssal Enforcer  Acherus Veteran  Acidic Swamp Ooze  Acolyte of Agony  \\\nId                                                                           \n0                  0                0                  0                 0   \n1                  0                0                  2                 0   \n2                  0                0                  0                 0   \n3                  0                0                  2                 0   \n4                  0                0                  0                 0   \n\n    Acolyte of Pain  Al'Akir the Windlord  Alleycat  Aluneth  \\\nId                                                             \n0                 0                     0         0        0   \n1                 0                     0         0        0   \n2                 0                     0         0        0   \n3                 0                     0         0        0   \n4                 0                     0         0        0   \n\n    Ancestral Healing  Animal Companion  ...   Warlock.1  Warrior.1  b1A1  \\\nId                                       ...                                \n0                   0                 0  ...           0          0     0   \n1                   2                 0  ...           0          0     0   \n2                   0                 0  ...           0          0     0   \n3                   0                 0  ...           0          0     0   \n4                   0                 0  ...           0          0     1   \n\n    b1A2  b1B1  b1B2  b2A1  b2A2  b2B1  b2B2  \nId                                            \n0      1     0     0     0     1     0     0  \n1      0     1     0     1     0     0     0  \n2      1     0     0     1     0     0     0  \n3      0     1     0     0     0     1     0  \n4      0     0     0     0     0     1     0  \n\n[5 rows x 686 columns]\n"
     ]
    }
   ],
   "source": [
    "print(X_train.head())"
   ]
  },
  {
   "cell_type": "code",
   "execution_count": null,
   "metadata": {},
   "outputs": [],
   "source": []
  }
 ],
 "metadata": {
  "kernelspec": {
   "display_name": "Python 2",
   "language": "python",
   "name": "python2"
  },
  "language_info": {
   "codemirror_mode": {
    "name": "ipython",
    "version": 2
   },
   "file_extension": ".py",
   "mimetype": "text/x-python",
   "name": "python",
   "nbconvert_exporter": "python",
   "pygments_lexer": "ipython2",
   "version": "2.7.6"
  }
 },
 "nbformat": 4,
 "nbformat_minor": 0
}
