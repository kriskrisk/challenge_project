{
 "cells": [
  {
   "cell_type": "markdown",
   "metadata": {
    "collapsed": true
   },
   "source": [
    "Simple approach to check how it all works."
   ]
  },
  {
   "cell_type": "code",
   "execution_count": 1,
   "metadata": {},
   "outputs": [],
   "source": [
    "import pandas as pd\n",
    "import json\n",
    "import operator"
   ]
  },
  {
   "cell_type": "code",
   "execution_count": 2,
   "metadata": {},
   "outputs": [],
   "source": [
    "def correct_json(file_name):\n",
    "    new_file_name = 'corrected' + file_name.title()\n",
    "    new_json_file = open(new_file_name, 'w')\n",
    "    old_json_file = open(file_name, 'r')\n",
    "\n",
    "    flag = False\n",
    "    \n",
    "    new_json_file.write('{\"decks\":{')\n",
    "    \n",
    "    for line in old_json_file:\n",
    "\n",
    "        if flag:\n",
    "            new_json_file.write(',')\n",
    "\n",
    "        new_json_file.write(line[13:25])\n",
    "        new_json_file.write(':{')\n",
    "        new_json_file.write(line[27:-1])\n",
    "\n",
    "        flag = True\n",
    "\n",
    "    new_json_file.write('}}')\n",
    "    \n",
    "    new_json_file.close()\n",
    "    old_json_file.close()\n",
    "    \n",
    "    return new_file_name"
   ]
  },
  {
   "cell_type": "code",
   "execution_count": 3,
   "metadata": {},
   "outputs": [],
   "source": [
    "training_decks_file = correct_json('trainingDecks.json')"
   ]
  },
  {
   "cell_type": "code",
   "execution_count": 4,
   "metadata": {},
   "outputs": [
    {
     "name": "stdout",
     "output_type": "stream",
     "text": [
      "               hero  Abyssal Enforcer  Acherus Veteran  Acidic Swamp Ooze  \\\ndeck100087   Shaman                 0                0                  0   \ndeck101443    Druid                 0                0                  0   \ndeck102280  Warlock                 0                0                  0   \ndeck104259    Druid                 0                0                  0   \ndeck105300   Priest                 0                0                  0   \n\n            Acolyte of Agony  Acolyte of Pain  Al'Akir the Windlord  Alleycat  \\\ndeck100087                 0                0                     0         0   \ndeck101443                 0                0                     0         0   \ndeck102280                 0                0                     0         0   \ndeck104259                 0                0                     0         0   \ndeck105300                 0                0                     0         0   \n\n            Aluneth  Ancestral Healing  ...    Voodoo Doctor  \\\ndeck100087        0                  0  ...                0   \ndeck101443        0                  0  ...                0   \ndeck102280        0                  0  ...                0   \ndeck104259        0                  0  ...                0   \ndeck105300        0                  0  ...                0   \n\n            Vulgar Homunculus  Warsong Commander  Water Elemental  \\\ndeck100087                  0                  0                0   \ndeck101443                  0                  0                0   \ndeck102280                  0                  0                0   \ndeck104259                  0                  0                0   \ndeck105300                  0                  0                0   \n\n            Wax Elemental  Whirlwind  Wild Growth  Wolfrider  \\\ndeck100087              0          0            0          0   \ndeck101443              0          0            2          0   \ndeck102280              0          0            0          0   \ndeck104259              0          0            2          0   \ndeck105300              0          0            0          0   \n\n            Worgen Infiltrator  Wrath  \ndeck100087                   0      0  \ndeck101443                   0      2  \ndeck102280                   0      0  \ndeck104259                   0      2  \ndeck105300                   0      0  \n\n[5 rows x 331 columns]\n"
     ]
    }
   ],
   "source": [
    "with open(training_decks_file, 'r') as file:\n",
    "    decks_data = json.load(file)\n",
    "\n",
    "df = pd.DataFrame.from_dict(decks_data['decks'], orient='index')\n",
    "df = pd.concat([\n",
    "    df['hero'].apply(operator.itemgetter(0)),\n",
    "    df['cards'].apply(pd.Series).fillna(\"0\").applymap(operator.itemgetter(0)).astype('int64')\n",
    "], axis=1)\n",
    "\n",
    "print(df.head())"
   ]
  },
  {
   "cell_type": "code",
   "execution_count": 5,
   "metadata": {},
   "outputs": [],
   "source": [
    "games = []\n",
    "\n",
    "with open('training_games.csv') as csvfile:\n",
    "    results = pd.read_csv(csvfile, sep=';', header=None)\n",
    "\n",
    "    for index, row in results.iterrows():\n",
    "        seq = list(df.loc[row[2], 'Abyssal Enforcer':'Wrath']) + list(df.loc[row[4], 'Abyssal Enforcer':'Wrath']) + [1]\n",
    "        games.append(seq)\n",
    "\n",
    "        seq = list(df.loc[row[4], 'Abyssal Enforcer':'Wrath']) + list(df.loc[row[2], 'Abyssal Enforcer':'Wrath']) + [0]\n",
    "        games.append(seq)"
   ]
  },
  {
   "cell_type": "code",
   "execution_count": null,
   "metadata": {},
   "outputs": [],
   "source": [
    "test_decks_file = correct_json('testDecks.json')"
   ]
  }
 ],
 "metadata": {
  "kernelspec": {
   "display_name": "Python 2",
   "language": "python",
   "name": "python2"
  },
  "language_info": {
   "codemirror_mode": {
    "name": "ipython",
    "version": 2
   },
   "file_extension": ".py",
   "mimetype": "text/x-python",
   "name": "python",
   "nbconvert_exporter": "python",
   "pygments_lexer": "ipython2",
   "version": "2.7.6"
  }
 },
 "nbformat": 4,
 "nbformat_minor": 0
}
