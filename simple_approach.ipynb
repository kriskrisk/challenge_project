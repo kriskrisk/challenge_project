{
 "cells": [
  {
   "cell_type": "markdown",
   "metadata": {
    "collapsed": true
   },
   "source": [
    "Simple approach to check how it all works."
   ]
  },
  {
   "cell_type": "code",
   "execution_count": 2,
   "metadata": {},
   "outputs": [],
   "source": [
    "import pandas as pd\n",
    "import numpy as np\n",
    "from sklearn.model_selection import train_test_split\n",
    "from sklearn.neighbors import KNeighborsClassifier\n",
    "from sklearn.model_selection import GridSearchCV\n",
    "from sklearn.naive_bayes import MultinomialNB"
   ]
  },
  {
   "cell_type": "code",
   "execution_count": null,
   "metadata": {},
   "outputs": [],
   "source": [
    "TRAINING_DECKS_PATH = '../trainingDecks.json'\n",
    "TRAINING_GAMES_PATH = '../training_games.csv'\n",
    "\n",
    "data = pd.read_json(TRAINING_DECKS_PATH, lines=True)"
   ]
  },
  {
   "cell_type": "code",
   "execution_count": 3,
   "metadata": {},
   "outputs": [],
   "source": [
    "decks = pd.read_csv(\"./decks.csv\", index_col=0)"
   ]
  },
  {
   "cell_type": "code",
   "execution_count": 4,
   "metadata": {},
   "outputs": [],
   "source": [
    "dummies_heros = pd.get_dummies(decks['Hero'])"
   ]
  },
  {
   "cell_type": "code",
   "execution_count": 5,
   "metadata": {},
   "outputs": [],
   "source": [
    "decks = decks.drop(columns=['deckName.1', 'Hero'])\n",
    "decks = pd.concat([decks, dummies_heros], axis=1)\n",
    "decks = decks.astype('int64')"
   ]
  },
  {
   "cell_type": "code",
   "execution_count": 6,
   "metadata": {},
   "outputs": [
    {
     "name": "stdout",
     "output_type": "stream",
     "text": [
      "            Abyssal Enforcer  Acherus Veteran  Acidic Swamp Ooze  \\\ndeckName                                                           \ndeck252103                 0                0                  0   \ndeck105300                 0                0                  0   \ndeck822100                 0                1                  0   \ndeck829295                 0                0                  0   \ndeck627915                 0                0                  0   \n\n            Acolyte of Agony  Acolyte of Pain  Al'Akir the Windlord  Alleycat  \\\ndeckName                                                                        \ndeck252103                 0                2                     0         0   \ndeck105300                 0                0                     0         0   \ndeck822100                 0                0                     0         0   \ndeck829295                 0                2                     0         0   \ndeck627915                 0                0                     1         0   \n\n            Aluneth  Ancestral Healing  Animal Companion   ...     Wrath  \\\ndeckName                                                   ...             \ndeck252103        0                  0                 0   ...         0   \ndeck105300        0                  0                 0   ...         0   \ndeck822100        0                  0                 0   ...         0   \ndeck829295        0                  0                 0   ...         0   \ndeck627915        0                  0                 0   ...         0   \n\n            Druid  Hunter  Mage  Paladin  Priest  Rogue  Shaman  Warlock  \\\ndeckName                                                                   \ndeck252103      0       0     0        0       0      0       0        0   \ndeck105300      0       0     0        0       1      0       0        0   \ndeck822100      0       0     0        1       0      0       0        0   \ndeck829295      0       0     0        0       0      0       0        1   \ndeck627915      0       0     0        0       0      0       1        0   \n\n            Warrior  \ndeckName             \ndeck252103        1  \ndeck105300        0  \ndeck822100        0  \ndeck829295        0  \ndeck627915        0  \n\n[5 rows x 339 columns]\n"
     ]
    }
   ],
   "source": [
    "print(decks.head())"
   ]
  },
  {
   "cell_type": "code",
   "execution_count": 7,
   "metadata": {},
   "outputs": [],
   "source": [
    "games = pd.read_csv(\"./training_games.csv\", sep=';', index_col=0)"
   ]
  },
  {
   "cell_type": "code",
   "execution_count": 8,
   "metadata": {},
   "outputs": [
    {
     "data": {
      "text/html": [
       "<div>\n",
       "<style scoped>\n",
       "    .dataframe tbody tr th:only-of-type {\n",
       "        vertical-align: middle;\n",
       "    }\n",
       "\n",
       "    .dataframe tbody tr th {\n",
       "        vertical-align: top;\n",
       "    }\n",
       "\n",
       "    .dataframe thead th {\n",
       "        text-align: right;\n",
       "    }\n",
       "</style>\n",
       "<table border=\"1\" class=\"dataframe\">\n",
       "  <thead>\n",
       "    <tr style=\"text-align: right;\">\n",
       "      <th></th>\n",
       "      <th>Gracz1</th>\n",
       "      <th>Talia1</th>\n",
       "      <th>Gracz2</th>\n",
       "      <th>Talia2</th>\n",
       "      <th>Wynik</th>\n",
       "    </tr>\n",
       "    <tr>\n",
       "      <th>Id</th>\n",
       "      <th></th>\n",
       "      <th></th>\n",
       "      <th></th>\n",
       "      <th></th>\n",
       "      <th></th>\n",
       "    </tr>\n",
       "  </thead>\n",
       "  <tbody>\n",
       "    <tr>\n",
       "      <th>100001.0</th>\n",
       "      <td>A1</td>\n",
       "      <td>deck113225</td>\n",
       "      <td>A1</td>\n",
       "      <td>deck731599</td>\n",
       "      <td>PLAYER_0 WON</td>\n",
       "    </tr>\n",
       "    <tr>\n",
       "      <th>100002.0</th>\n",
       "      <td>A1</td>\n",
       "      <td>deck694943</td>\n",
       "      <td>A1</td>\n",
       "      <td>deck929572</td>\n",
       "      <td>PLAYER_1 WON</td>\n",
       "    </tr>\n",
       "    <tr>\n",
       "      <th>100003.0</th>\n",
       "      <td>A1</td>\n",
       "      <td>deck182567</td>\n",
       "      <td>A1</td>\n",
       "      <td>deck525929</td>\n",
       "      <td>PLAYER_0 WON</td>\n",
       "    </tr>\n",
       "    <tr>\n",
       "      <th>100004.0</th>\n",
       "      <td>A1</td>\n",
       "      <td>deck219364</td>\n",
       "      <td>A1</td>\n",
       "      <td>deck757429</td>\n",
       "      <td>PLAYER_1 WON</td>\n",
       "    </tr>\n",
       "    <tr>\n",
       "      <th>100005.0</th>\n",
       "      <td>A1</td>\n",
       "      <td>deck826229</td>\n",
       "      <td>A1</td>\n",
       "      <td>deck337123</td>\n",
       "      <td>PLAYER_1 WON</td>\n",
       "    </tr>\n",
       "  </tbody>\n",
       "</table>\n",
       "</div>"
      ],
      "text/plain": [
       "<div>\n",
       "<style scoped>\n",
       "    .dataframe tbody tr th:only-of-type {\n",
       "        vertical-align: middle;\n",
       "    }\n",
       "\n",
       "    .dataframe tbody tr th {\n",
       "        vertical-align: top;\n",
       "    }\n",
       "\n",
       "    .dataframe thead th {\n",
       "        text-align: right;\n",
       "    }\n",
       "</style>\n",
       "<table border=\"1\" class=\"dataframe\">\n",
       "  <thead>\n",
       "    <tr style=\"text-align: right;\">\n",
       "      <th></th>\n",
       "      <th>Gracz1</th>\n",
       "      <th>Talia1</th>\n",
       "      <th>Gracz2</th>\n",
       "      <th>Talia2</th>\n",
       "      <th>Wynik</th>\n",
       "    </tr>\n",
       "    <tr>\n",
       "      <th>Id</th>\n",
       "      <th></th>\n",
       "      <th></th>\n",
       "      <th></th>\n",
       "      <th></th>\n",
       "      <th></th>\n",
       "    </tr>\n",
       "  </thead>\n",
       "  <tbody>\n",
       "    <tr>\n",
       "      <th>100001.0</th>\n",
       "      <td>A1</td>\n",
       "      <td>deck113225</td>\n",
       "      <td>A1</td>\n",
       "      <td>deck731599</td>\n",
       "      <td>PLAYER_0 WON</td>\n",
       "    </tr>\n",
       "    <tr>\n",
       "      <th>100002.0</th>\n",
       "      <td>A1</td>\n",
       "      <td>deck694943</td>\n",
       "      <td>A1</td>\n",
       "      <td>deck929572</td>\n",
       "      <td>PLAYER_1 WON</td>\n",
       "    </tr>\n",
       "    <tr>\n",
       "      <th>100003.0</th>\n",
       "      <td>A1</td>\n",
       "      <td>deck182567</td>\n",
       "      <td>A1</td>\n",
       "      <td>deck525929</td>\n",
       "      <td>PLAYER_0 WON</td>\n",
       "    </tr>\n",
       "    <tr>\n",
       "      <th>100004.0</th>\n",
       "      <td>A1</td>\n",
       "      <td>deck219364</td>\n",
       "      <td>A1</td>\n",
       "      <td>deck757429</td>\n",
       "      <td>PLAYER_1 WON</td>\n",
       "    </tr>\n",
       "    <tr>\n",
       "      <th>100005.0</th>\n",
       "      <td>A1</td>\n",
       "      <td>deck826229</td>\n",
       "      <td>A1</td>\n",
       "      <td>deck337123</td>\n",
       "      <td>PLAYER_1 WON</td>\n",
       "    </tr>\n",
       "  </tbody>\n",
       "</table>\n",
       "</div>"
      ]
     },
     "execution_count": 8,
     "metadata": {},
     "output_type": "execute_result"
    }
   ],
   "source": [
    "games.head()"
   ]
  },
  {
   "cell_type": "code",
   "execution_count": 9,
   "metadata": {},
   "outputs": [
    {
     "data": {
      "text/plain": [
       "(299680, 5)"
      ]
     },
     "execution_count": 9,
     "metadata": {},
     "output_type": "execute_result"
    }
   ],
   "source": [
    "games.shape"
   ]
  },
  {
   "cell_type": "code",
   "execution_count": 10,
   "metadata": {},
   "outputs": [
    {
     "data": {
      "text/plain": [
       "'deck113225'"
      ]
     },
     "execution_count": 10,
     "metadata": {},
     "output_type": "execute_result"
    }
   ],
   "source": [
    "games.loc[100001]['Talia1']"
   ]
  },
  {
   "cell_type": "code",
   "execution_count": 11,
   "metadata": {},
   "outputs": [],
   "source": [
    "zero_data = np.zeros(shape=(0, 2 * decks.shape[1]))"
   ]
  },
  {
   "cell_type": "code",
   "execution_count": 12,
   "metadata": {},
   "outputs": [],
   "source": [
    "column_names = 2 * list(decks.columns.values)"
   ]
  },
  {
   "cell_type": "code",
   "execution_count": 13,
   "metadata": {
    "collapsed": true
   },
   "outputs": [],
   "source": [
    "training_set = pd.DataFrame(zero_data, columns=column_names)"
   ]
  },
  {
   "cell_type": "code",
   "execution_count": 14,
   "metadata": {},
   "outputs": [],
   "source": [
    "training_set = pd.concat([decks.loc[games.loc[i][\"Talia1\"]].append(decks.loc[games.loc[i][\"Talia2\"]])\n",
    "                          for i in range(100001, 100001 + games.shape[0])], axis=1, ignore_index=True)"
   ]
  },
  {
   "cell_type": "code",
   "execution_count": 15,
   "metadata": {},
   "outputs": [],
   "source": [
    "training_set = training_set.transpose()"
   ]
  },
  {
   "cell_type": "code",
   "execution_count": 58,
   "metadata": {},
   "outputs": [
    {
     "name": "stdout",
     "output_type": "stream",
     "text": [
      "   Abyssal Enforcer  Acherus Veteran  Acidic Swamp Ooze  Acolyte of Agony  \\\n0                 0                0                  0                 0   \n1                 0                0                  2                 0   \n2                 0                0                  0                 0   \n3                 0                0                  2                 0   \n4                 0                0                  0                 0   \n\n   Acolyte of Pain  Al'Akir the Windlord  Alleycat  Aluneth  \\\n0                0                     0         0        0   \n1                0                     0         0        0   \n2                0                     0         0        0   \n3                0                     0         0        0   \n4                0                     0         0        0   \n\n   Ancestral Healing  Animal Companion   ...     Wrath  Druid  Hunter  Mage  \\\n0                  0                 0   ...         2      1       0     0   \n1                  2                 0   ...         0      0       0     0   \n2                  0                 0   ...         0      0       0     0   \n3                  0                 0   ...         0      0       0     0   \n4                  0                 0   ...         0      0       0     0   \n\n   Paladin  Priest  Rogue  Shaman  Warlock  Warrior  \n0        0       0      0       0        0        0  \n1        1       0      0       0        0        0  \n2        1       0      0       0        0        0  \n3        1       0      0       0        0        0  \n4        1       0      0       0        0        0  \n\n[5 rows x 678 columns]\n"
     ]
    }
   ],
   "source": [
    "print(training_set.head())"
   ]
  },
  {
   "cell_type": "code",
   "execution_count": 16,
   "metadata": {},
   "outputs": [
    {
     "data": {
      "text/plain": [
       "(299680, 678)"
      ]
     },
     "execution_count": 16,
     "metadata": {},
     "output_type": "execute_result"
    }
   ],
   "source": [
    "training_set.shape"
   ]
  },
  {
   "cell_type": "code",
   "execution_count": 17,
   "metadata": {},
   "outputs": [],
   "source": [
    "y = games['Wynik']"
   ]
  },
  {
   "cell_type": "code",
   "execution_count": 18,
   "metadata": {
    "collapsed": true
   },
   "outputs": [
    {
     "data": {
      "text/plain": [
       "Id\n100001.0    0\n100002.0    1\n100003.0    0\n100004.0    1\n100005.0    1\n100006.0    1\n100007.0    0\n100008.0    0\n100009.0    0\n100010.0    0\n100011.0    1\n100012.0    0\n100013.0    0\n100014.0    1\n100015.0    0\n100016.0    1\n100017.0    1\n100018.0    0\n100019.0    1\n100020.0    1\n100021.0    1\n100022.0    0\n100023.0    1\n100024.0    0\n100025.0    0\n100026.0    0\n100027.0    1\n100028.0    1\n100029.0    0\n100030.0    0\n           ..\n399651.0    1\n399652.0    0\n399653.0    0\n399654.0    1\n399655.0    0\n399656.0    1\n399657.0    0\n399658.0    1\n399659.0    1\n399660.0    1\n399661.0    0\n399662.0    0\n399663.0    1\n399664.0    1\n399665.0    1\n399666.0    0\n399667.0    0\n399668.0    1\n399669.0    1\n399670.0    0\n399671.0    1\n399672.0    0\n399673.0    1\n399674.0    0\n399675.0    0\n399676.0    0\n399677.0    1\n399678.0    0\n399679.0    1\n399680.0    1\nName: Wynik, Length: 299680, dtype: int64"
      ]
     },
     "execution_count": 18,
     "metadata": {},
     "output_type": "execute_result"
    }
   ],
   "source": [
    "y.replace(['PLAYER_0 WON', 'PLAYER_1 WON'], [0, 1])"
   ]
  },
  {
   "cell_type": "code",
   "execution_count": 19,
   "metadata": {},
   "outputs": [],
   "source": [
    "X_train, X_test, y_train, y_test = train_test_split(training_set, y, test_size=0.1)"
   ]
  },
  {
   "cell_type": "code",
   "execution_count": 20,
   "metadata": {},
   "outputs": [
    {
     "data": {
      "text/plain": [
       "(269712, 678)"
      ]
     },
     "execution_count": 20,
     "metadata": {},
     "output_type": "execute_result"
    }
   ],
   "source": [
    "X_train.shape"
   ]
  },
  {
   "cell_type": "markdown",
   "metadata": {},
   "source": [
    "KNN"
   ]
  },
  {
   "cell_type": "code",
   "execution_count": 74,
   "metadata": {},
   "outputs": [],
   "source": [
    "parameters = {'n_neighbors': [3, 5, 7]}\n",
    "knn = KNeighborsClassifier()\n",
    "clf = GridSearchCV(knn, parameters)\n",
    "clf.fit(X_train, y_train)\n",
    "\n",
    "print(\"Best parameters set found on development set:\")\n",
    "print()\n",
    "print(clf.best_params_)"
   ]
  },
  {
   "cell_type": "code",
   "execution_count": 21,
   "metadata": {},
   "outputs": [
    {
     "data": {
      "text/plain": [
       "MultinomialNB(alpha=1.0, class_prior=None, fit_prior=True)"
      ]
     },
     "execution_count": 21,
     "metadata": {},
     "output_type": "execute_result"
    }
   ],
   "source": [
    "mnb = MultinomialNB()\n",
    "mnb.fit(X_train, y_train)"
   ]
  },
  {
   "cell_type": "code",
   "execution_count": 23,
   "metadata": {},
   "outputs": [
    {
     "data": {
      "text/plain": [
       "0.6335758142018153"
      ]
     },
     "execution_count": 23,
     "metadata": {},
     "output_type": "execute_result"
    }
   ],
   "source": [
    "mnb.score(X_test, y_test)"
   ]
  },
  {
   "cell_type": "code",
   "execution_count": null,
   "metadata": {},
   "outputs": [],
   "source": []
  }
 ],
 "metadata": {
  "kernelspec": {
   "display_name": "Python 2",
   "language": "python",
   "name": "python2"
  },
  "language_info": {
   "codemirror_mode": {
    "name": "ipython",
    "version": 2
   },
   "file_extension": ".py",
   "mimetype": "text/x-python",
   "name": "python",
   "nbconvert_exporter": "python",
   "pygments_lexer": "ipython2",
   "version": "2.7.6"
  }
 },
 "nbformat": 4,
 "nbformat_minor": 0
}
