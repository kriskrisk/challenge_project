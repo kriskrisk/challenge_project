{
 "cells": [
  {
   "cell_type": "markdown",
   "metadata": {
    "collapsed": true,
    "pycharm": {}
   },
   "source": [
    "# Naive Bayes\n",
    "\n",
    "Purpose of this notebook is to examin how accurate Naive Bayes classifier is on this data set."
   ]
  },
  {
   "cell_type": "code",
   "execution_count": 1,
   "metadata": {
    "pycharm": {}
   },
   "outputs": [],
   "source": [
    "import csv\n",
    "import operator\n",
    "\n",
    "import matplotlib.pyplot as plt\n",
    "import numpy as np\n",
    "import pandas as pd\n",
    "\n",
    "from sklearn.model_selection import train_test_split\n",
    "from sklearn.naive_bayes import MultinomialNB"
   ]
  },
  {
   "cell_type": "markdown",
   "metadata": {
    "pycharm": {
     "metadata": false
    }
   },
   "source": [
    "## Simple preprocessing"
   ]
  },
  {
   "cell_type": "code",
   "execution_count": 20,
   "metadata": {
    "pycharm": {},
    "scrolled": true
   },
   "outputs": [],
   "source": [
    "decks = pd.read_csv(\"./data/decks.csv\", index_col=0)\n",
    "games = pd.read_csv(\"./data/training_games.csv\", sep=';', index_col=0)"
   ]
  },
  {
   "cell_type": "code",
   "execution_count": 11,
   "metadata": {
    "pycharm": {}
   },
   "outputs": [],
   "source": [
    "# Random permutation of games:\n",
    "games = games.sample(frac=1)"
   ]
  },
  {
   "cell_type": "code",
   "execution_count": 13,
   "metadata": {
    "pycharm": {}
   },
   "outputs": [
    {
     "name": "stderr",
     "output_type": "stream",
     "text": [
      "/home/kris/PycharmProjects/SUS/lab1/venv/lib/python3.5/site-packages/ipykernel_launcher.py:15: SettingWithCopyWarning: \n",
      "A value is trying to be set on a copy of a slice from a DataFrame\n",
      "\n",
      "See the caveats in the documentation: http://pandas.pydata.org/pandas-docs/stable/indexing.html#indexing-view-versus-copy\n",
      "  from ipykernel import kernelapp as app\n"
     ]
    }
   ],
   "source": [
    "decks['prob'] = [0] * 400\n",
    "decks['prob'] = decks['prob'].astype('float')\n",
    "\n",
    "for index, _ in decks.iterrows():\n",
    "    temp = games.loc[games['Talia1'] == index]\n",
    "    times_played = temp.shape[0]\n",
    "    temp = temp.loc[temp['Wynik'] == 'PLAYER_0 WON']\n",
    "    times_won = temp.shape[0]\n",
    "    \n",
    "    temp = games.loc[games['Talia2'] == index]\n",
    "    times_played = times_played + temp.shape[0]\n",
    "    temp = temp.loc[temp['Wynik'] == 'PLAYER_1 WON']\n",
    "    times_won = times_won + temp.shape[0]\n",
    "    \n",
    "    decks['prob'][index] = times_won / times_played"
   ]
  },
  {
   "cell_type": "code",
   "execution_count": 16,
   "metadata": {
    "pycharm": {}
   },
   "outputs": [
    {
     "name": "stderr",
     "output_type": "stream",
     "text": [
      "/home/kris/PycharmProjects/SUS/lab1/venv/lib/python3.5/site-packages/ipykernel_launcher.py:18: SettingWithCopyWarning: \n",
      "A value is trying to be set on a copy of a slice from a DataFrame\n",
      "\n",
      "See the caveats in the documentation: http://pandas.pydata.org/pandas-docs/stable/indexing.html#indexing-view-versus-copy\n"
     ]
    }
   ],
   "source": [
    "bots = ['A1', 'A2', 'B1', 'B2']\n",
    "\n",
    "for bot in bots:\n",
    "    decks['prob_' + bot] = [0] * 400\n",
    "    decks['prob_' + bot] = decks['prob_' + bot].astype('float')\n",
    "    \n",
    "    for index, _ in decks.iterrows():\n",
    "        temp = games.loc[(games['Talia1'] == index) & (games['Gracz1'] == bot)]\n",
    "        times_played = temp.shape[0]\n",
    "        temp = temp.loc[temp['Wynik'] == 'PLAYER_0 WON']\n",
    "        times_won = temp.shape[0]\n",
    "        \n",
    "        temp = games.loc[(games['Talia2'] == index) & (games['Gracz1'] == bot)]\n",
    "        times_played = times_played + temp.shape[0]\n",
    "        temp = temp.loc[temp['Wynik'] == 'PLAYER_1 WON']\n",
    "        times_won = times_won + temp.shape[0]\n",
    "        \n",
    "        decks['prob_' + bot][index] = times_won/times_played"
   ]
  },
  {
   "cell_type": "code",
   "execution_count": 7,
   "metadata": {
    "pycharm": {}
   },
   "outputs": [],
   "source": [
    "# Save to be able to access data many times without running preprocessing.\n",
    "decks.to_csv('./data/adjusted_decks.csv')"
   ]
  },
  {
   "cell_type": "code",
   "execution_count": 21,
   "metadata": {},
   "outputs": [],
   "source": [
    "# Get example of games\n",
    "games_100_rows = games.head(100)\n",
    "games_100_rows.to_csv('./data/games_100_rows.csv')"
   ]
  },
  {
   "cell_type": "markdown",
   "metadata": {
    "pycharm": {
     "metadata": false
    }
   },
   "source": [
    "## Getting and preparing data"
   ]
  },
  {
   "cell_type": "code",
   "execution_count": 2,
   "metadata": {
    "pycharm": {
     "name": "#%%\n"
    }
   },
   "outputs": [
    {
     "name": "stdout",
     "output_type": "stream",
     "text": [
      "There are 400 decks. Each one is represented as 344 dimensional vector.\n",
      "\n",
      "This is how it looks like:\n"
     ]
    },
    {
     "data": {
      "text/html": [
       "<div>\n",
       "<style scoped>\n",
       "    .dataframe tbody tr th:only-of-type {\n",
       "        vertical-align: middle;\n",
       "    }\n",
       "\n",
       "    .dataframe tbody tr th {\n",
       "        vertical-align: top;\n",
       "    }\n",
       "\n",
       "    .dataframe thead th {\n",
       "        text-align: right;\n",
       "    }\n",
       "</style>\n",
       "<table border=\"1\" class=\"dataframe\">\n",
       "  <thead>\n",
       "    <tr style=\"text-align: right;\">\n",
       "      <th></th>\n",
       "      <th>Abyssal Enforcer</th>\n",
       "      <th>Acherus Veteran</th>\n",
       "      <th>Acidic Swamp Ooze</th>\n",
       "      <th>Acolyte of Agony</th>\n",
       "      <th>Acolyte of Pain</th>\n",
       "      <th>Al'Akir the Windlord</th>\n",
       "      <th>Alleycat</th>\n",
       "      <th>Aluneth</th>\n",
       "      <th>Ancestral Healing</th>\n",
       "      <th>Animal Companion</th>\n",
       "      <th>...</th>\n",
       "      <th>Priest</th>\n",
       "      <th>Rogue</th>\n",
       "      <th>Shaman</th>\n",
       "      <th>Warlock</th>\n",
       "      <th>Warrior</th>\n",
       "      <th>prob</th>\n",
       "      <th>prob_A1</th>\n",
       "      <th>prob_A2</th>\n",
       "      <th>prob_B1</th>\n",
       "      <th>prob_B2</th>\n",
       "    </tr>\n",
       "    <tr>\n",
       "      <th>deckName</th>\n",
       "      <th></th>\n",
       "      <th></th>\n",
       "      <th></th>\n",
       "      <th></th>\n",
       "      <th></th>\n",
       "      <th></th>\n",
       "      <th></th>\n",
       "      <th></th>\n",
       "      <th></th>\n",
       "      <th></th>\n",
       "      <th></th>\n",
       "      <th></th>\n",
       "      <th></th>\n",
       "      <th></th>\n",
       "      <th></th>\n",
       "      <th></th>\n",
       "      <th></th>\n",
       "      <th></th>\n",
       "      <th></th>\n",
       "      <th></th>\n",
       "      <th></th>\n",
       "    </tr>\n",
       "  </thead>\n",
       "  <tbody>\n",
       "    <tr>\n",
       "      <th>deck252103</th>\n",
       "      <td>0</td>\n",
       "      <td>0</td>\n",
       "      <td>0</td>\n",
       "      <td>0</td>\n",
       "      <td>2</td>\n",
       "      <td>0</td>\n",
       "      <td>0</td>\n",
       "      <td>0</td>\n",
       "      <td>0</td>\n",
       "      <td>0</td>\n",
       "      <td>...</td>\n",
       "      <td>0</td>\n",
       "      <td>0</td>\n",
       "      <td>0</td>\n",
       "      <td>0</td>\n",
       "      <td>1</td>\n",
       "      <td>0.408011</td>\n",
       "      <td>0.402576</td>\n",
       "      <td>0.429119</td>\n",
       "      <td>0.410319</td>\n",
       "      <td>0.391304</td>\n",
       "    </tr>\n",
       "    <tr>\n",
       "      <th>deck105300</th>\n",
       "      <td>0</td>\n",
       "      <td>0</td>\n",
       "      <td>0</td>\n",
       "      <td>0</td>\n",
       "      <td>0</td>\n",
       "      <td>0</td>\n",
       "      <td>0</td>\n",
       "      <td>0</td>\n",
       "      <td>0</td>\n",
       "      <td>0</td>\n",
       "      <td>...</td>\n",
       "      <td>1</td>\n",
       "      <td>0</td>\n",
       "      <td>0</td>\n",
       "      <td>0</td>\n",
       "      <td>0</td>\n",
       "      <td>0.430965</td>\n",
       "      <td>0.469605</td>\n",
       "      <td>0.430657</td>\n",
       "      <td>0.374684</td>\n",
       "      <td>0.412121</td>\n",
       "    </tr>\n",
       "    <tr>\n",
       "      <th>deck822100</th>\n",
       "      <td>0</td>\n",
       "      <td>1</td>\n",
       "      <td>0</td>\n",
       "      <td>0</td>\n",
       "      <td>0</td>\n",
       "      <td>0</td>\n",
       "      <td>0</td>\n",
       "      <td>0</td>\n",
       "      <td>0</td>\n",
       "      <td>0</td>\n",
       "      <td>...</td>\n",
       "      <td>0</td>\n",
       "      <td>0</td>\n",
       "      <td>0</td>\n",
       "      <td>0</td>\n",
       "      <td>0</td>\n",
       "      <td>0.620577</td>\n",
       "      <td>0.629283</td>\n",
       "      <td>0.609155</td>\n",
       "      <td>0.602469</td>\n",
       "      <td>0.646154</td>\n",
       "    </tr>\n",
       "    <tr>\n",
       "      <th>deck829295</th>\n",
       "      <td>0</td>\n",
       "      <td>0</td>\n",
       "      <td>0</td>\n",
       "      <td>0</td>\n",
       "      <td>2</td>\n",
       "      <td>0</td>\n",
       "      <td>0</td>\n",
       "      <td>0</td>\n",
       "      <td>0</td>\n",
       "      <td>0</td>\n",
       "      <td>...</td>\n",
       "      <td>0</td>\n",
       "      <td>0</td>\n",
       "      <td>0</td>\n",
       "      <td>1</td>\n",
       "      <td>0</td>\n",
       "      <td>0.544320</td>\n",
       "      <td>0.567732</td>\n",
       "      <td>0.572414</td>\n",
       "      <td>0.482051</td>\n",
       "      <td>0.548387</td>\n",
       "    </tr>\n",
       "    <tr>\n",
       "      <th>deck627915</th>\n",
       "      <td>0</td>\n",
       "      <td>0</td>\n",
       "      <td>0</td>\n",
       "      <td>0</td>\n",
       "      <td>0</td>\n",
       "      <td>1</td>\n",
       "      <td>0</td>\n",
       "      <td>0</td>\n",
       "      <td>0</td>\n",
       "      <td>0</td>\n",
       "      <td>...</td>\n",
       "      <td>0</td>\n",
       "      <td>0</td>\n",
       "      <td>1</td>\n",
       "      <td>0</td>\n",
       "      <td>0</td>\n",
       "      <td>0.456177</td>\n",
       "      <td>0.456311</td>\n",
       "      <td>0.481356</td>\n",
       "      <td>0.435616</td>\n",
       "      <td>0.456140</td>\n",
       "    </tr>\n",
       "  </tbody>\n",
       "</table>\n",
       "<p>5 rows × 344 columns</p>\n",
       "</div>"
      ],
      "text/plain": [
       "            Abyssal Enforcer  Acherus Veteran  Acidic Swamp Ooze  \\\n",
       "deckName                                                           \n",
       "deck252103                 0                0                  0   \n",
       "deck105300                 0                0                  0   \n",
       "deck822100                 0                1                  0   \n",
       "deck829295                 0                0                  0   \n",
       "deck627915                 0                0                  0   \n",
       "\n",
       "            Acolyte of Agony  Acolyte of Pain  Al'Akir the Windlord  Alleycat  \\\n",
       "deckName                                                                        \n",
       "deck252103                 0                2                     0         0   \n",
       "deck105300                 0                0                     0         0   \n",
       "deck822100                 0                0                     0         0   \n",
       "deck829295                 0                2                     0         0   \n",
       "deck627915                 0                0                     1         0   \n",
       "\n",
       "            Aluneth  Ancestral Healing  Animal Companion  ...  Priest  Rogue  \\\n",
       "deckName                                                  ...                  \n",
       "deck252103        0                  0                 0  ...       0      0   \n",
       "deck105300        0                  0                 0  ...       1      0   \n",
       "deck822100        0                  0                 0  ...       0      0   \n",
       "deck829295        0                  0                 0  ...       0      0   \n",
       "deck627915        0                  0                 0  ...       0      0   \n",
       "\n",
       "            Shaman  Warlock  Warrior      prob   prob_A1   prob_A2   prob_B1  \\\n",
       "deckName                                                                       \n",
       "deck252103       0        0        1  0.408011  0.402576  0.429119  0.410319   \n",
       "deck105300       0        0        0  0.430965  0.469605  0.430657  0.374684   \n",
       "deck822100       0        0        0  0.620577  0.629283  0.609155  0.602469   \n",
       "deck829295       0        1        0  0.544320  0.567732  0.572414  0.482051   \n",
       "deck627915       1        0        0  0.456177  0.456311  0.481356  0.435616   \n",
       "\n",
       "             prob_B2  \n",
       "deckName              \n",
       "deck252103  0.391304  \n",
       "deck105300  0.412121  \n",
       "deck822100  0.646154  \n",
       "deck829295  0.548387  \n",
       "deck627915  0.456140  \n",
       "\n",
       "[5 rows x 344 columns]"
      ]
     },
     "execution_count": 2,
     "metadata": {},
     "output_type": "execute_result"
    }
   ],
   "source": [
    "decks = pd.read_csv('./data/adjusted_decks.csv', index_col=0)\n",
    "print(f'There are {decks.shape[0]} decks. Each one is represented as {decks.shape[1]} dimensional vector.\\n')\n",
    "print('This is how it looks like:')\n",
    "decks.head()"
   ]
  },
  {
   "cell_type": "code",
   "execution_count": 3,
   "metadata": {
    "scrolled": true
   },
   "outputs": [
    {
     "data": {
      "text/html": [
       "<div>\n",
       "<style scoped>\n",
       "    .dataframe tbody tr th:only-of-type {\n",
       "        vertical-align: middle;\n",
       "    }\n",
       "\n",
       "    .dataframe tbody tr th {\n",
       "        vertical-align: top;\n",
       "    }\n",
       "\n",
       "    .dataframe thead th {\n",
       "        text-align: right;\n",
       "    }\n",
       "</style>\n",
       "<table border=\"1\" class=\"dataframe\">\n",
       "  <thead>\n",
       "    <tr style=\"text-align: right;\">\n",
       "      <th></th>\n",
       "      <th>Gracz1</th>\n",
       "      <th>Talia1</th>\n",
       "      <th>Gracz2</th>\n",
       "      <th>Talia2</th>\n",
       "      <th>Wynik</th>\n",
       "    </tr>\n",
       "    <tr>\n",
       "      <th>Id</th>\n",
       "      <th></th>\n",
       "      <th></th>\n",
       "      <th></th>\n",
       "      <th></th>\n",
       "      <th></th>\n",
       "    </tr>\n",
       "  </thead>\n",
       "  <tbody>\n",
       "    <tr>\n",
       "      <th>100001.0</th>\n",
       "      <td>A1</td>\n",
       "      <td>deck113225</td>\n",
       "      <td>A1</td>\n",
       "      <td>deck731599</td>\n",
       "      <td>PLAYER_0 WON</td>\n",
       "    </tr>\n",
       "    <tr>\n",
       "      <th>100002.0</th>\n",
       "      <td>A1</td>\n",
       "      <td>deck694943</td>\n",
       "      <td>A1</td>\n",
       "      <td>deck929572</td>\n",
       "      <td>PLAYER_1 WON</td>\n",
       "    </tr>\n",
       "    <tr>\n",
       "      <th>100003.0</th>\n",
       "      <td>A1</td>\n",
       "      <td>deck182567</td>\n",
       "      <td>A1</td>\n",
       "      <td>deck525929</td>\n",
       "      <td>PLAYER_0 WON</td>\n",
       "    </tr>\n",
       "    <tr>\n",
       "      <th>100004.0</th>\n",
       "      <td>A1</td>\n",
       "      <td>deck219364</td>\n",
       "      <td>A1</td>\n",
       "      <td>deck757429</td>\n",
       "      <td>PLAYER_1 WON</td>\n",
       "    </tr>\n",
       "    <tr>\n",
       "      <th>100005.0</th>\n",
       "      <td>A1</td>\n",
       "      <td>deck826229</td>\n",
       "      <td>A1</td>\n",
       "      <td>deck337123</td>\n",
       "      <td>PLAYER_1 WON</td>\n",
       "    </tr>\n",
       "  </tbody>\n",
       "</table>\n",
       "</div>"
      ],
      "text/plain": [
       "         Gracz1      Talia1 Gracz2      Talia2         Wynik\n",
       "Id                                                          \n",
       "100001.0     A1  deck113225     A1  deck731599  PLAYER_0 WON\n",
       "100002.0     A1  deck694943     A1  deck929572  PLAYER_1 WON\n",
       "100003.0     A1  deck182567     A1  deck525929  PLAYER_0 WON\n",
       "100004.0     A1  deck219364     A1  deck757429  PLAYER_1 WON\n",
       "100005.0     A1  deck826229     A1  deck337123  PLAYER_1 WON"
      ]
     },
     "execution_count": 3,
     "metadata": {},
     "output_type": "execute_result"
    }
   ],
   "source": [
    "# games = pd.read_csv('./data/training_games.csv', index_col=0)\n",
    "games = pd.read_csv('./data/games_100_rows.csv', index_col=0)\n",
    "games.head()"
   ]
  },
  {
   "cell_type": "code",
   "execution_count": 4,
   "metadata": {
    "pycharm": {}
   },
   "outputs": [
    {
     "name": "stderr",
     "output_type": "stream",
     "text": [
      "/home/kris/Desktop/repair/challenge_project/venv/lib/python3.6/site-packages/ipykernel_launcher.py:2: FutureWarning: The signature of `Series.to_csv` was aligned to that of `DataFrame.to_csv`, and argument 'header' will change its default value from False to True: please pass an explicit value to suppress this warning.\n",
      "  \n"
     ]
    }
   ],
   "source": [
    "# Save for later\n",
    "decks['prob'].to_csv('./data/prob.csv')"
   ]
  },
  {
   "cell_type": "code",
   "execution_count": 5,
   "metadata": {
    "pycharm": {}
   },
   "outputs": [],
   "source": [
    "prob = pd.read_csv(\"./data/prob.csv\", index_col=0)"
   ]
  },
  {
   "cell_type": "code",
   "execution_count": 6,
   "metadata": {
    "pycharm": {}
   },
   "outputs": [],
   "source": [
    "zero_data = np.zeros(shape=(0, 2 * decks.shape[1]))\n",
    "column_names = 2 * list(decks.columns.values)\n",
    "X_train = pd.concat([decks.loc[games.loc[i][\"Talia1\"]].append(decks.loc[games.loc[i][\"Talia2\"]])\n",
    "                    for i in range(100001, 100001 + games.shape[0])], axis=1, ignore_index=True)"
   ]
  },
  {
   "cell_type": "code",
   "execution_count": 7,
   "metadata": {
    "pycharm": {}
   },
   "outputs": [],
   "source": [
    "X_train = X_train.transpose()"
   ]
  },
  {
   "cell_type": "code",
   "execution_count": 8,
   "metadata": {
    "pycharm": {}
   },
   "outputs": [],
   "source": [
    "dummies_ai1 = pd.get_dummies(games['Gracz1']).reset_index().drop(columns=['Id'])\n",
    "dummies_ai2 = pd.get_dummies(games['Gracz2']).reset_index().drop(columns=['Id'])\n",
    "X_train = pd.concat([X_train, dummies_ai1, dummies_ai2], axis=1)"
   ]
  },
  {
   "cell_type": "code",
   "execution_count": 9,
   "metadata": {
    "pycharm": {}
   },
   "outputs": [],
   "source": [
    "# Save for later\n",
    "with open('X_train.csv', 'w') as csvfile:\n",
    "    X_train.head(1000).to_csv(csvfile)"
   ]
  },
  {
   "cell_type": "code",
   "execution_count": 10,
   "metadata": {
    "pycharm": {}
   },
   "outputs": [],
   "source": [
    "y = games['Wynik']"
   ]
  },
  {
   "cell_type": "code",
   "execution_count": 11,
   "metadata": {
    "pycharm": {}
   },
   "outputs": [],
   "source": [
    "y_dummies = pd.get_dummies(games['Wynik']).reset_index().drop(columns=['Id'])"
   ]
  },
  {
   "cell_type": "code",
   "execution_count": 12,
   "metadata": {
    "pycharm": {}
   },
   "outputs": [],
   "source": [
    "with open('./data/y_dummies_train.csv', 'w') as csvfile:\n",
    "    y_dummies.head(1000).to_csv(csvfile)"
   ]
  },
  {
   "cell_type": "code",
   "execution_count": 13,
   "metadata": {
    "pycharm": {}
   },
   "outputs": [],
   "source": [
    "y = y.replace(['PLAYER_0 WON', 'PLAYER_1 WON'], [0, 1])\n",
    "y = y.reset_index().drop(columns=['Id'])"
   ]
  },
  {
   "cell_type": "code",
   "execution_count": 14,
   "metadata": {
    "pycharm": {}
   },
   "outputs": [],
   "source": [
    "with open('./data/y_train.csv', 'w') as csvfile:\n",
    "    y.head(1000).to_csv(csvfile)"
   ]
  },
  {
   "cell_type": "code",
   "execution_count": 16,
   "metadata": {
    "pycharm": {}
   },
   "outputs": [],
   "source": [
    "X_train, X_test, y_train, y_test = train_test_split(X_train, y, test_size=0.1)"
   ]
  },
  {
   "cell_type": "markdown",
   "metadata": {
    "pycharm": {}
   },
   "source": [
    "## Naive Bayes model"
   ]
  },
  {
   "cell_type": "code",
   "execution_count": 17,
   "metadata": {
    "pycharm": {}
   },
   "outputs": [
    {
     "name": "stderr",
     "output_type": "stream",
     "text": [
      "/home/kris/Desktop/repair/challenge_project/venv/lib/python3.6/site-packages/sklearn/utils/validation.py:761: DataConversionWarning: A column-vector y was passed when a 1d array was expected. Please change the shape of y to (n_samples, ), for example using ravel().\n",
      "  y = column_or_1d(y, warn=True)\n"
     ]
    },
    {
     "data": {
      "text/plain": [
       "MultinomialNB(alpha=1.0, class_prior=None, fit_prior=True)"
      ]
     },
     "execution_count": 17,
     "metadata": {},
     "output_type": "execute_result"
    }
   ],
   "source": [
    "mnb = MultinomialNB()\n",
    "mnb.fit(X_train, y_train)"
   ]
  },
  {
   "cell_type": "code",
   "execution_count": 18,
   "metadata": {
    "pycharm": {}
   },
   "outputs": [
    {
     "data": {
      "text/plain": [
       "0.5"
      ]
     },
     "execution_count": 18,
     "metadata": {},
     "output_type": "execute_result"
    }
   ],
   "source": [
    "mnb.score(X_test, y_test)"
   ]
  },
  {
   "cell_type": "markdown",
   "metadata": {
    "pycharm": {}
   },
   "source": [
    "## Results:"
   ]
  },
  {
   "cell_type": "code",
   "execution_count": 59,
   "metadata": {
    "pycharm": {}
   },
   "outputs": [
    {
     "name": "stdout",
     "output_type": "stream",
     "text": [
      "            Abyssal Enforcer  Acherus Veteran  Acidic Swamp Ooze  \\\n",
      "deckName                                                           \n",
      "deck244804                 0                0                  0   \n",
      "deck124802                 0                0                  0   \n",
      "deck687350                 0                0                  0   \n",
      "deck517728                 0                0                  0   \n",
      "deck130762                 0                0                  0   \n",
      "\n",
      "            Acolyte of Agony  Acolyte of Pain  Al'Akir the Windlord  Alleycat  \\\n",
      "deckName                                                                        \n",
      "deck244804                 0                1                     0         0   \n",
      "deck124802                 0                2                     0         0   \n",
      "deck687350                 0                1                     0         0   \n",
      "deck517728                 0                2                     0         0   \n",
      "deck130762                 0                0                     0         0   \n",
      "\n",
      "            Aluneth  Ancestral Healing  Animal Companion   ...     Wrath  \\\n",
      "deckName                                                   ...             \n",
      "deck244804        1                  0                 0   ...         0   \n",
      "deck124802        0                  0                 0   ...         0   \n",
      "deck687350        0                  0                 0   ...         0   \n",
      "deck517728        0                  0                 0   ...         0   \n",
      "deck130762        1                  0                 0   ...         0   \n",
      "\n",
      "            Druid  Hunter  Mage  Paladin  Priest  Rogue  Shaman  Warlock  \\\n",
      "deckName                                                                   \n",
      "deck244804      0       0     1        0       0      0       0        0   \n",
      "deck124802      0       0     0        0       0      0       0        0   \n",
      "deck687350      0       0     0        0       0      0       0        0   \n",
      "deck517728      0       0     0        0       0      0       0        0   \n",
      "deck130762      0       0     1        0       0      0       0        0   \n",
      "\n",
      "            Warrior  \n",
      "deckName             \n",
      "deck244804        0  \n",
      "deck124802        1  \n",
      "deck687350        1  \n",
      "deck517728        1  \n",
      "deck130762        0  \n",
      "\n",
      "[5 rows x 339 columns]\n"
     ]
    }
   ],
   "source": [
    "test_decks = pd.read_json('../testDecks.json', lines=True)\n",
    "test_decks['deckName'] = test_decks['deckName'].apply(operator.itemgetter(0))\n",
    "test_decks['hero'] = test_decks['hero'].apply(operator.itemgetter(0))\n",
    "column_names_single = list(decks.columns.values)\n",
    "zero_data_single = np.zeros(shape=(0, decks.shape[1]))\n",
    "#result = pd.DataFrame(zero_data_single, columns=column_names_single)\n",
    "data = [[]]\n",
    "hero_dict = {'Druid': 330, 'Hunter': 331, 'Mage': 332, 'Paladin': 333, 'Priest': 334, 'Rogue': 335, 'Shaman': 336, 'Warlock': 337, 'Warrior': 338}\n",
    "\n",
    "for index, row in test_decks.iterrows():\n",
    "    new_row = []\n",
    "    \n",
    "    for card in list(decks.columns):\n",
    "        if card in row['cards']:\n",
    "            new_row.append(row['cards'][card][0])\n",
    "        else:\n",
    "            new_row.append(0)\n",
    "            \n",
    "    new_row[hero_dict[row['hero']]] = 1\n",
    "            \n",
    "    data.append(new_row)\n",
    "\n",
    "data.remove([])\n",
    "result = pd.DataFrame(data, columns=column_names_single, index=test_decks.loc[:]['deckName'])\n",
    "print(result.head())"
   ]
  },
  {
   "cell_type": "code",
   "execution_count": 27,
   "metadata": {
    "pycharm": {}
   },
   "outputs": [],
   "source": [
    "bots = ['A1', 'A2', 'B1', 'B2']\n",
    "\n",
    "with open('results.csv', 'w') as csvfile:\n",
    "    row_writer = csv.writer(csvfile, delimiter=';', quotechar='|', quoting=csv.QUOTE_MINIMAL)\n",
    "    \n",
    "    for bot in bots:\n",
    "        for j in range(200):\n",
    "            sum_scores = 0\n",
    "            \n",
    "            for i in range(400):\n",
    "                to_count = pd.concat([result.iloc[j], decks.iloc[i]])\n",
    "                sum_scores = sum_scores + mnb.predict_proba([to_count])[0][0]\n",
    "                \n",
    "            mean = sum_scores / 6\n",
    "            \n",
    "            row_writer.writerow([bot, result.index[j], str(round(mean, 1))])"
   ]
  }
 ],
 "metadata": {
  "kernelspec": {
   "display_name": "Python 3",
   "language": "python",
   "name": "python3"
  },
  "language_info": {
   "codemirror_mode": {
    "name": "ipython",
    "version": 3
   },
   "file_extension": ".py",
   "mimetype": "text/x-python",
   "name": "python",
   "nbconvert_exporter": "python",
   "pygments_lexer": "ipython3",
   "version": "3.6.7"
  }
 },
 "nbformat": 4,
 "nbformat_minor": 1
}
