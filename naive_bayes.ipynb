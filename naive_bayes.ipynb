{
  "cells": [
    {
      "cell_type": "markdown",
      "metadata": {
        "collapsed": true,
        "pycharm": {}
      },
      "source": [
        "# Naive Bayes\n",
        "\n",
        "Purpose of this notebook is to examin how accurate Naive Bayes classifier is on this data set."
      ]
    },
    {
      "cell_type": "code",
      "execution_count": 1,
      "metadata": {
        "pycharm": {}
      },
      "outputs": [],
      "source": "import csv\nimport operator\n\nimport numpy as np\nimport pandas as pd\n\nfrom sklearn.model_selection import train_test_split\nfrom sklearn.naive_bayes import MultinomialNB"
    },
    {
      "cell_type": "markdown",
      "metadata": {
        "pycharm": {
          "metadata": false
        }
      },
      "source": [
        "## Simple preprocessing"
      ]
    },
    {
      "cell_type": "code",
      "execution_count": 20,
      "metadata": {
        "pycharm": {},
        "scrolled": true
      },
      "outputs": [],
      "source": [
        "decks \u003d pd.read_csv(\"./data/decks.csv\", index_col\u003d0)\n",
        "games \u003d pd.read_csv(\"./data/training_games.csv\", sep\u003d\u0027;\u0027, index_col\u003d0)"
      ]
    },
    {
      "cell_type": "code",
      "execution_count": 11,
      "metadata": {
        "pycharm": {}
      },
      "outputs": [],
      "source": [
        "# Random permutation of games:\n",
        "games \u003d games.sample(frac\u003d1)"
      ]
    },
    {
      "cell_type": "code",
      "execution_count": 13,
      "metadata": {
        "pycharm": {}
      },
      "outputs": [
        {
          "name": "stderr",
          "output_type": "stream",
          "text": [
            "/home/kris/PycharmProjects/SUS/lab1/venv/lib/python3.5/site-packages/ipykernel_launcher.py:15: SettingWithCopyWarning: \n",
            "A value is trying to be set on a copy of a slice from a DataFrame\n",
            "\n",
            "See the caveats in the documentation: http://pandas.pydata.org/pandas-docs/stable/indexing.html#indexing-view-versus-copy\n",
            "  from ipykernel import kernelapp as app\n"
          ]
        }
      ],
      "source": [
        "decks[\u0027prob\u0027] \u003d [0] * 400\n",
        "decks[\u0027prob\u0027] \u003d decks[\u0027prob\u0027].astype(\u0027float\u0027)\n",
        "\n",
        "for index, _ in decks.iterrows():\n",
        "    temp \u003d games.loc[games[\u0027Talia1\u0027] \u003d\u003d index]\n",
        "    times_played \u003d temp.shape[0]\n",
        "    temp \u003d temp.loc[temp[\u0027Wynik\u0027] \u003d\u003d \u0027PLAYER_0 WON\u0027]\n",
        "    times_won \u003d temp.shape[0]\n",
        "    \n",
        "    temp \u003d games.loc[games[\u0027Talia2\u0027] \u003d\u003d index]\n",
        "    times_played \u003d times_played + temp.shape[0]\n",
        "    temp \u003d temp.loc[temp[\u0027Wynik\u0027] \u003d\u003d \u0027PLAYER_1 WON\u0027]\n",
        "    times_won \u003d times_won + temp.shape[0]\n",
        "    \n",
        "    decks[\u0027prob\u0027][index] \u003d times_won / times_played"
      ]
    },
    {
      "cell_type": "code",
      "execution_count": 16,
      "metadata": {
        "pycharm": {}
      },
      "outputs": [
        {
          "name": "stderr",
          "output_type": "stream",
          "text": [
            "/home/kris/PycharmProjects/SUS/lab1/venv/lib/python3.5/site-packages/ipykernel_launcher.py:18: SettingWithCopyWarning: \n",
            "A value is trying to be set on a copy of a slice from a DataFrame\n",
            "\n",
            "See the caveats in the documentation: http://pandas.pydata.org/pandas-docs/stable/indexing.html#indexing-view-versus-copy\n"
          ]
        }
      ],
      "source": [
        "bots \u003d [\u0027A1\u0027, \u0027A2\u0027, \u0027B1\u0027, \u0027B2\u0027]\n",
        "\n",
        "for bot in bots:\n",
        "    decks[\u0027prob_\u0027 + bot] \u003d [0] * 400\n",
        "    decks[\u0027prob_\u0027 + bot] \u003d decks[\u0027prob_\u0027 + bot].astype(\u0027float\u0027)\n",
        "    \n",
        "    for index, _ in decks.iterrows():\n",
        "        temp \u003d games.loc[(games[\u0027Talia1\u0027] \u003d\u003d index) \u0026 (games[\u0027Gracz1\u0027] \u003d\u003d bot)]\n",
        "        times_played \u003d temp.shape[0]\n",
        "        temp \u003d temp.loc[temp[\u0027Wynik\u0027] \u003d\u003d \u0027PLAYER_0 WON\u0027]\n",
        "        times_won \u003d temp.shape[0]\n",
        "        \n",
        "        temp \u003d games.loc[(games[\u0027Talia2\u0027] \u003d\u003d index) \u0026 (games[\u0027Gracz1\u0027] \u003d\u003d bot)]\n",
        "        times_played \u003d times_played + temp.shape[0]\n",
        "        temp \u003d temp.loc[temp[\u0027Wynik\u0027] \u003d\u003d \u0027PLAYER_1 WON\u0027]\n",
        "        times_won \u003d times_won + temp.shape[0]\n",
        "        \n",
        "        decks[\u0027prob_\u0027 + bot][index] \u003d times_won/times_played"
      ]
    },
    {
      "cell_type": "code",
      "execution_count": 7,
      "metadata": {
        "pycharm": {}
      },
      "outputs": [],
      "source": [
        "# Save to be able to access data many times without running preprocessing.\n",
        "decks.to_csv(\u0027./data/adjusted_decks.csv\u0027)"
      ]
    },
    {
      "cell_type": "code",
      "execution_count": 21,
      "metadata": {
        "pycharm": {}
      },
      "outputs": [],
      "source": [
        "# Get example of games\n",
        "games_100_rows \u003d games.head(100)\n",
        "games_100_rows.to_csv(\u0027./data/games_100_rows.csv\u0027)"
      ]
    },
    {
      "cell_type": "markdown",
      "metadata": {
        "pycharm": {
          "metadata": false
        }
      },
      "source": [
        "## Getting and preparing data"
      ]
    },
    {
      "cell_type": "code",
      "execution_count": 2,
      "metadata": {
        "pycharm": {
          "name": "#%%\n"
        }
      },
      "outputs": [
        {
          "name": "stdout",
          "output_type": "stream",
          "text": [
            "There are 400 decks. Each one is represented as 344 dimensional vector.\n",
            "\n",
            "This is how it looks like:\n"
          ]
        },
        {
          "data": {
            "text/html": [
              "\u003cdiv\u003e\n",
              "\u003cstyle scoped\u003e\n",
              "    .dataframe tbody tr th:only-of-type {\n",
              "        vertical-align: middle;\n",
              "    }\n",
              "\n",
              "    .dataframe tbody tr th {\n",
              "        vertical-align: top;\n",
              "    }\n",
              "\n",
              "    .dataframe thead th {\n",
              "        text-align: right;\n",
              "    }\n",
              "\u003c/style\u003e\n",
              "\u003ctable border\u003d\"1\" class\u003d\"dataframe\"\u003e\n",
              "  \u003cthead\u003e\n",
              "    \u003ctr style\u003d\"text-align: right;\"\u003e\n",
              "      \u003cth\u003e\u003c/th\u003e\n",
              "      \u003cth\u003eAbyssal Enforcer\u003c/th\u003e\n",
              "      \u003cth\u003eAcherus Veteran\u003c/th\u003e\n",
              "      \u003cth\u003eAcidic Swamp Ooze\u003c/th\u003e\n",
              "      \u003cth\u003eAcolyte of Agony\u003c/th\u003e\n",
              "      \u003cth\u003eAcolyte of Pain\u003c/th\u003e\n",
              "      \u003cth\u003eAl\u0027Akir the Windlord\u003c/th\u003e\n",
              "      \u003cth\u003eAlleycat\u003c/th\u003e\n",
              "      \u003cth\u003eAluneth\u003c/th\u003e\n",
              "      \u003cth\u003eAncestral Healing\u003c/th\u003e\n",
              "      \u003cth\u003eAnimal Companion\u003c/th\u003e\n",
              "      \u003cth\u003e...\u003c/th\u003e\n",
              "      \u003cth\u003ePriest\u003c/th\u003e\n",
              "      \u003cth\u003eRogue\u003c/th\u003e\n",
              "      \u003cth\u003eShaman\u003c/th\u003e\n",
              "      \u003cth\u003eWarlock\u003c/th\u003e\n",
              "      \u003cth\u003eWarrior\u003c/th\u003e\n",
              "      \u003cth\u003eprob\u003c/th\u003e\n",
              "      \u003cth\u003eprob_A1\u003c/th\u003e\n",
              "      \u003cth\u003eprob_A2\u003c/th\u003e\n",
              "      \u003cth\u003eprob_B1\u003c/th\u003e\n",
              "      \u003cth\u003eprob_B2\u003c/th\u003e\n",
              "    \u003c/tr\u003e\n",
              "    \u003ctr\u003e\n",
              "      \u003cth\u003edeckName\u003c/th\u003e\n",
              "      \u003cth\u003e\u003c/th\u003e\n",
              "      \u003cth\u003e\u003c/th\u003e\n",
              "      \u003cth\u003e\u003c/th\u003e\n",
              "      \u003cth\u003e\u003c/th\u003e\n",
              "      \u003cth\u003e\u003c/th\u003e\n",
              "      \u003cth\u003e\u003c/th\u003e\n",
              "      \u003cth\u003e\u003c/th\u003e\n",
              "      \u003cth\u003e\u003c/th\u003e\n",
              "      \u003cth\u003e\u003c/th\u003e\n",
              "      \u003cth\u003e\u003c/th\u003e\n",
              "      \u003cth\u003e\u003c/th\u003e\n",
              "      \u003cth\u003e\u003c/th\u003e\n",
              "      \u003cth\u003e\u003c/th\u003e\n",
              "      \u003cth\u003e\u003c/th\u003e\n",
              "      \u003cth\u003e\u003c/th\u003e\n",
              "      \u003cth\u003e\u003c/th\u003e\n",
              "      \u003cth\u003e\u003c/th\u003e\n",
              "      \u003cth\u003e\u003c/th\u003e\n",
              "      \u003cth\u003e\u003c/th\u003e\n",
              "      \u003cth\u003e\u003c/th\u003e\n",
              "      \u003cth\u003e\u003c/th\u003e\n",
              "    \u003c/tr\u003e\n",
              "  \u003c/thead\u003e\n",
              "  \u003ctbody\u003e\n",
              "    \u003ctr\u003e\n",
              "      \u003cth\u003edeck252103\u003c/th\u003e\n",
              "      \u003ctd\u003e0\u003c/td\u003e\n",
              "      \u003ctd\u003e0\u003c/td\u003e\n",
              "      \u003ctd\u003e0\u003c/td\u003e\n",
              "      \u003ctd\u003e0\u003c/td\u003e\n",
              "      \u003ctd\u003e2\u003c/td\u003e\n",
              "      \u003ctd\u003e0\u003c/td\u003e\n",
              "      \u003ctd\u003e0\u003c/td\u003e\n",
              "      \u003ctd\u003e0\u003c/td\u003e\n",
              "      \u003ctd\u003e0\u003c/td\u003e\n",
              "      \u003ctd\u003e0\u003c/td\u003e\n",
              "      \u003ctd\u003e...\u003c/td\u003e\n",
              "      \u003ctd\u003e0\u003c/td\u003e\n",
              "      \u003ctd\u003e0\u003c/td\u003e\n",
              "      \u003ctd\u003e0\u003c/td\u003e\n",
              "      \u003ctd\u003e0\u003c/td\u003e\n",
              "      \u003ctd\u003e1\u003c/td\u003e\n",
              "      \u003ctd\u003e0.408011\u003c/td\u003e\n",
              "      \u003ctd\u003e0.402576\u003c/td\u003e\n",
              "      \u003ctd\u003e0.429119\u003c/td\u003e\n",
              "      \u003ctd\u003e0.410319\u003c/td\u003e\n",
              "      \u003ctd\u003e0.391304\u003c/td\u003e\n",
              "    \u003c/tr\u003e\n",
              "    \u003ctr\u003e\n",
              "      \u003cth\u003edeck105300\u003c/th\u003e\n",
              "      \u003ctd\u003e0\u003c/td\u003e\n",
              "      \u003ctd\u003e0\u003c/td\u003e\n",
              "      \u003ctd\u003e0\u003c/td\u003e\n",
              "      \u003ctd\u003e0\u003c/td\u003e\n",
              "      \u003ctd\u003e0\u003c/td\u003e\n",
              "      \u003ctd\u003e0\u003c/td\u003e\n",
              "      \u003ctd\u003e0\u003c/td\u003e\n",
              "      \u003ctd\u003e0\u003c/td\u003e\n",
              "      \u003ctd\u003e0\u003c/td\u003e\n",
              "      \u003ctd\u003e0\u003c/td\u003e\n",
              "      \u003ctd\u003e...\u003c/td\u003e\n",
              "      \u003ctd\u003e1\u003c/td\u003e\n",
              "      \u003ctd\u003e0\u003c/td\u003e\n",
              "      \u003ctd\u003e0\u003c/td\u003e\n",
              "      \u003ctd\u003e0\u003c/td\u003e\n",
              "      \u003ctd\u003e0\u003c/td\u003e\n",
              "      \u003ctd\u003e0.430965\u003c/td\u003e\n",
              "      \u003ctd\u003e0.469605\u003c/td\u003e\n",
              "      \u003ctd\u003e0.430657\u003c/td\u003e\n",
              "      \u003ctd\u003e0.374684\u003c/td\u003e\n",
              "      \u003ctd\u003e0.412121\u003c/td\u003e\n",
              "    \u003c/tr\u003e\n",
              "    \u003ctr\u003e\n",
              "      \u003cth\u003edeck822100\u003c/th\u003e\n",
              "      \u003ctd\u003e0\u003c/td\u003e\n",
              "      \u003ctd\u003e1\u003c/td\u003e\n",
              "      \u003ctd\u003e0\u003c/td\u003e\n",
              "      \u003ctd\u003e0\u003c/td\u003e\n",
              "      \u003ctd\u003e0\u003c/td\u003e\n",
              "      \u003ctd\u003e0\u003c/td\u003e\n",
              "      \u003ctd\u003e0\u003c/td\u003e\n",
              "      \u003ctd\u003e0\u003c/td\u003e\n",
              "      \u003ctd\u003e0\u003c/td\u003e\n",
              "      \u003ctd\u003e0\u003c/td\u003e\n",
              "      \u003ctd\u003e...\u003c/td\u003e\n",
              "      \u003ctd\u003e0\u003c/td\u003e\n",
              "      \u003ctd\u003e0\u003c/td\u003e\n",
              "      \u003ctd\u003e0\u003c/td\u003e\n",
              "      \u003ctd\u003e0\u003c/td\u003e\n",
              "      \u003ctd\u003e0\u003c/td\u003e\n",
              "      \u003ctd\u003e0.620577\u003c/td\u003e\n",
              "      \u003ctd\u003e0.629283\u003c/td\u003e\n",
              "      \u003ctd\u003e0.609155\u003c/td\u003e\n",
              "      \u003ctd\u003e0.602469\u003c/td\u003e\n",
              "      \u003ctd\u003e0.646154\u003c/td\u003e\n",
              "    \u003c/tr\u003e\n",
              "    \u003ctr\u003e\n",
              "      \u003cth\u003edeck829295\u003c/th\u003e\n",
              "      \u003ctd\u003e0\u003c/td\u003e\n",
              "      \u003ctd\u003e0\u003c/td\u003e\n",
              "      \u003ctd\u003e0\u003c/td\u003e\n",
              "      \u003ctd\u003e0\u003c/td\u003e\n",
              "      \u003ctd\u003e2\u003c/td\u003e\n",
              "      \u003ctd\u003e0\u003c/td\u003e\n",
              "      \u003ctd\u003e0\u003c/td\u003e\n",
              "      \u003ctd\u003e0\u003c/td\u003e\n",
              "      \u003ctd\u003e0\u003c/td\u003e\n",
              "      \u003ctd\u003e0\u003c/td\u003e\n",
              "      \u003ctd\u003e...\u003c/td\u003e\n",
              "      \u003ctd\u003e0\u003c/td\u003e\n",
              "      \u003ctd\u003e0\u003c/td\u003e\n",
              "      \u003ctd\u003e0\u003c/td\u003e\n",
              "      \u003ctd\u003e1\u003c/td\u003e\n",
              "      \u003ctd\u003e0\u003c/td\u003e\n",
              "      \u003ctd\u003e0.544320\u003c/td\u003e\n",
              "      \u003ctd\u003e0.567732\u003c/td\u003e\n",
              "      \u003ctd\u003e0.572414\u003c/td\u003e\n",
              "      \u003ctd\u003e0.482051\u003c/td\u003e\n",
              "      \u003ctd\u003e0.548387\u003c/td\u003e\n",
              "    \u003c/tr\u003e\n",
              "    \u003ctr\u003e\n",
              "      \u003cth\u003edeck627915\u003c/th\u003e\n",
              "      \u003ctd\u003e0\u003c/td\u003e\n",
              "      \u003ctd\u003e0\u003c/td\u003e\n",
              "      \u003ctd\u003e0\u003c/td\u003e\n",
              "      \u003ctd\u003e0\u003c/td\u003e\n",
              "      \u003ctd\u003e0\u003c/td\u003e\n",
              "      \u003ctd\u003e1\u003c/td\u003e\n",
              "      \u003ctd\u003e0\u003c/td\u003e\n",
              "      \u003ctd\u003e0\u003c/td\u003e\n",
              "      \u003ctd\u003e0\u003c/td\u003e\n",
              "      \u003ctd\u003e0\u003c/td\u003e\n",
              "      \u003ctd\u003e...\u003c/td\u003e\n",
              "      \u003ctd\u003e0\u003c/td\u003e\n",
              "      \u003ctd\u003e0\u003c/td\u003e\n",
              "      \u003ctd\u003e1\u003c/td\u003e\n",
              "      \u003ctd\u003e0\u003c/td\u003e\n",
              "      \u003ctd\u003e0\u003c/td\u003e\n",
              "      \u003ctd\u003e0.456177\u003c/td\u003e\n",
              "      \u003ctd\u003e0.456311\u003c/td\u003e\n",
              "      \u003ctd\u003e0.481356\u003c/td\u003e\n",
              "      \u003ctd\u003e0.435616\u003c/td\u003e\n",
              "      \u003ctd\u003e0.456140\u003c/td\u003e\n",
              "    \u003c/tr\u003e\n",
              "  \u003c/tbody\u003e\n",
              "\u003c/table\u003e\n",
              "\u003cp\u003e5 rows × 344 columns\u003c/p\u003e\n",
              "\u003c/div\u003e"
            ],
            "text/plain": [
              "            Abyssal Enforcer  Acherus Veteran  Acidic Swamp Ooze  \\\n",
              "deckName                                                           \n",
              "deck252103                 0                0                  0   \n",
              "deck105300                 0                0                  0   \n",
              "deck822100                 0                1                  0   \n",
              "deck829295                 0                0                  0   \n",
              "deck627915                 0                0                  0   \n",
              "\n",
              "            Acolyte of Agony  Acolyte of Pain  Al\u0027Akir the Windlord  Alleycat  \\\n",
              "deckName                                                                        \n",
              "deck252103                 0                2                     0         0   \n",
              "deck105300                 0                0                     0         0   \n",
              "deck822100                 0                0                     0         0   \n",
              "deck829295                 0                2                     0         0   \n",
              "deck627915                 0                0                     1         0   \n",
              "\n",
              "            Aluneth  Ancestral Healing  Animal Companion  ...  Priest  Rogue  \\\n",
              "deckName                                                  ...                  \n",
              "deck252103        0                  0                 0  ...       0      0   \n",
              "deck105300        0                  0                 0  ...       1      0   \n",
              "deck822100        0                  0                 0  ...       0      0   \n",
              "deck829295        0                  0                 0  ...       0      0   \n",
              "deck627915        0                  0                 0  ...       0      0   \n",
              "\n",
              "            Shaman  Warlock  Warrior      prob   prob_A1   prob_A2   prob_B1  \\\n",
              "deckName                                                                       \n",
              "deck252103       0        0        1  0.408011  0.402576  0.429119  0.410319   \n",
              "deck105300       0        0        0  0.430965  0.469605  0.430657  0.374684   \n",
              "deck822100       0        0        0  0.620577  0.629283  0.609155  0.602469   \n",
              "deck829295       0        1        0  0.544320  0.567732  0.572414  0.482051   \n",
              "deck627915       1        0        0  0.456177  0.456311  0.481356  0.435616   \n",
              "\n",
              "             prob_B2  \n",
              "deckName              \n",
              "deck252103  0.391304  \n",
              "deck105300  0.412121  \n",
              "deck822100  0.646154  \n",
              "deck829295  0.548387  \n",
              "deck627915  0.456140  \n",
              "\n",
              "[5 rows x 344 columns]"
            ]
          },
          "execution_count": 2,
          "metadata": {},
          "output_type": "execute_result"
        }
      ],
      "source": [
        "decks \u003d pd.read_csv(\u0027./data/adjusted_decks.csv\u0027, index_col\u003d0)\n",
        "print(f\u0027There are {decks.shape[0]} decks. Each one is represented as {decks.shape[1]} dimensional vector.\\n\u0027)\n",
        "print(\u0027This is how it looks like:\u0027)\n",
        "decks.head()"
      ]
    },
    {
      "cell_type": "code",
      "execution_count": 3,
      "metadata": {
        "scrolled": true,
        "pycharm": {}
      },
      "outputs": [
        {
          "data": {
            "text/html": [
              "\u003cdiv\u003e\n",
              "\u003cstyle scoped\u003e\n",
              "    .dataframe tbody tr th:only-of-type {\n",
              "        vertical-align: middle;\n",
              "    }\n",
              "\n",
              "    .dataframe tbody tr th {\n",
              "        vertical-align: top;\n",
              "    }\n",
              "\n",
              "    .dataframe thead th {\n",
              "        text-align: right;\n",
              "    }\n",
              "\u003c/style\u003e\n",
              "\u003ctable border\u003d\"1\" class\u003d\"dataframe\"\u003e\n",
              "  \u003cthead\u003e\n",
              "    \u003ctr style\u003d\"text-align: right;\"\u003e\n",
              "      \u003cth\u003e\u003c/th\u003e\n",
              "      \u003cth\u003eGracz1\u003c/th\u003e\n",
              "      \u003cth\u003eTalia1\u003c/th\u003e\n",
              "      \u003cth\u003eGracz2\u003c/th\u003e\n",
              "      \u003cth\u003eTalia2\u003c/th\u003e\n",
              "      \u003cth\u003eWynik\u003c/th\u003e\n",
              "    \u003c/tr\u003e\n",
              "    \u003ctr\u003e\n",
              "      \u003cth\u003eId\u003c/th\u003e\n",
              "      \u003cth\u003e\u003c/th\u003e\n",
              "      \u003cth\u003e\u003c/th\u003e\n",
              "      \u003cth\u003e\u003c/th\u003e\n",
              "      \u003cth\u003e\u003c/th\u003e\n",
              "      \u003cth\u003e\u003c/th\u003e\n",
              "    \u003c/tr\u003e\n",
              "  \u003c/thead\u003e\n",
              "  \u003ctbody\u003e\n",
              "    \u003ctr\u003e\n",
              "      \u003cth\u003e100001.0\u003c/th\u003e\n",
              "      \u003ctd\u003eA1\u003c/td\u003e\n",
              "      \u003ctd\u003edeck113225\u003c/td\u003e\n",
              "      \u003ctd\u003eA1\u003c/td\u003e\n",
              "      \u003ctd\u003edeck731599\u003c/td\u003e\n",
              "      \u003ctd\u003ePLAYER_0 WON\u003c/td\u003e\n",
              "    \u003c/tr\u003e\n",
              "    \u003ctr\u003e\n",
              "      \u003cth\u003e100002.0\u003c/th\u003e\n",
              "      \u003ctd\u003eA1\u003c/td\u003e\n",
              "      \u003ctd\u003edeck694943\u003c/td\u003e\n",
              "      \u003ctd\u003eA1\u003c/td\u003e\n",
              "      \u003ctd\u003edeck929572\u003c/td\u003e\n",
              "      \u003ctd\u003ePLAYER_1 WON\u003c/td\u003e\n",
              "    \u003c/tr\u003e\n",
              "    \u003ctr\u003e\n",
              "      \u003cth\u003e100003.0\u003c/th\u003e\n",
              "      \u003ctd\u003eA1\u003c/td\u003e\n",
              "      \u003ctd\u003edeck182567\u003c/td\u003e\n",
              "      \u003ctd\u003eA1\u003c/td\u003e\n",
              "      \u003ctd\u003edeck525929\u003c/td\u003e\n",
              "      \u003ctd\u003ePLAYER_0 WON\u003c/td\u003e\n",
              "    \u003c/tr\u003e\n",
              "    \u003ctr\u003e\n",
              "      \u003cth\u003e100004.0\u003c/th\u003e\n",
              "      \u003ctd\u003eA1\u003c/td\u003e\n",
              "      \u003ctd\u003edeck219364\u003c/td\u003e\n",
              "      \u003ctd\u003eA1\u003c/td\u003e\n",
              "      \u003ctd\u003edeck757429\u003c/td\u003e\n",
              "      \u003ctd\u003ePLAYER_1 WON\u003c/td\u003e\n",
              "    \u003c/tr\u003e\n",
              "    \u003ctr\u003e\n",
              "      \u003cth\u003e100005.0\u003c/th\u003e\n",
              "      \u003ctd\u003eA1\u003c/td\u003e\n",
              "      \u003ctd\u003edeck826229\u003c/td\u003e\n",
              "      \u003ctd\u003eA1\u003c/td\u003e\n",
              "      \u003ctd\u003edeck337123\u003c/td\u003e\n",
              "      \u003ctd\u003ePLAYER_1 WON\u003c/td\u003e\n",
              "    \u003c/tr\u003e\n",
              "  \u003c/tbody\u003e\n",
              "\u003c/table\u003e\n",
              "\u003c/div\u003e"
            ],
            "text/plain": [
              "         Gracz1      Talia1 Gracz2      Talia2         Wynik\n",
              "Id                                                          \n",
              "100001.0     A1  deck113225     A1  deck731599  PLAYER_0 WON\n",
              "100002.0     A1  deck694943     A1  deck929572  PLAYER_1 WON\n",
              "100003.0     A1  deck182567     A1  deck525929  PLAYER_0 WON\n",
              "100004.0     A1  deck219364     A1  deck757429  PLAYER_1 WON\n",
              "100005.0     A1  deck826229     A1  deck337123  PLAYER_1 WON"
            ]
          },
          "execution_count": 3,
          "metadata": {},
          "output_type": "execute_result"
        }
      ],
      "source": [
        "# games \u003d pd.read_csv(\u0027./data/training_games.csv\u0027, index_col\u003d0)\n",
        "games \u003d pd.read_csv(\u0027./data/games_100_rows.csv\u0027, index_col\u003d0)\n",
        "games.head()"
      ]
    },
    {
      "cell_type": "code",
      "execution_count": 4,
      "metadata": {
        "pycharm": {}
      },
      "outputs": [
        {
          "name": "stderr",
          "output_type": "stream",
          "text": [
            "/home/kris/Desktop/repair/challenge_project/venv/lib/python3.6/site-packages/ipykernel_launcher.py:2: FutureWarning: The signature of `Series.to_csv` was aligned to that of `DataFrame.to_csv`, and argument \u0027header\u0027 will change its default value from False to True: please pass an explicit value to suppress this warning.\n",
            "  \n"
          ]
        }
      ],
      "source": [
        "# Save for later\n",
        "decks[\u0027prob\u0027].to_csv(\u0027./data/prob.csv\u0027)"
      ]
    },
    {
      "cell_type": "code",
      "execution_count": 5,
      "metadata": {
        "pycharm": {}
      },
      "outputs": [],
      "source": [
        "prob \u003d pd.read_csv(\"./data/prob.csv\", index_col\u003d0)"
      ]
    },
    {
      "cell_type": "code",
      "execution_count": 6,
      "metadata": {
        "pycharm": {}
      },
      "outputs": [],
      "source": [
        "zero_data \u003d np.zeros(shape\u003d(0, 2 * decks.shape[1]))\n",
        "column_names \u003d 2 * list(decks.columns.values)\n",
        "X_train \u003d pd.concat([decks.loc[games.loc[i][\"Talia1\"]].append(decks.loc[games.loc[i][\"Talia2\"]])\n",
        "                    for i in range(100001, 100001 + games.shape[0])], axis\u003d1, ignore_index\u003dTrue)"
      ]
    },
    {
      "cell_type": "code",
      "execution_count": 7,
      "metadata": {
        "pycharm": {}
      },
      "outputs": [],
      "source": [
        "X_train \u003d X_train.transpose()"
      ]
    },
    {
      "cell_type": "code",
      "execution_count": 8,
      "metadata": {
        "pycharm": {}
      },
      "outputs": [],
      "source": [
        "dummies_ai1 \u003d pd.get_dummies(games[\u0027Gracz1\u0027]).reset_index().drop(columns\u003d[\u0027Id\u0027])\n",
        "dummies_ai2 \u003d pd.get_dummies(games[\u0027Gracz2\u0027]).reset_index().drop(columns\u003d[\u0027Id\u0027])\n",
        "X_train \u003d pd.concat([X_train, dummies_ai1, dummies_ai2], axis\u003d1)"
      ]
    },
    {
      "cell_type": "code",
      "execution_count": 9,
      "metadata": {
        "pycharm": {}
      },
      "outputs": [],
      "source": [
        "# Save for later\n",
        "with open(\u0027X_train.csv\u0027, \u0027w\u0027) as csvfile:\n",
        "    X_train.head(1000).to_csv(csvfile)"
      ]
    },
    {
      "cell_type": "code",
      "execution_count": 10,
      "metadata": {
        "pycharm": {}
      },
      "outputs": [],
      "source": [
        "y \u003d games[\u0027Wynik\u0027]"
      ]
    },
    {
      "cell_type": "code",
      "execution_count": 11,
      "metadata": {
        "pycharm": {}
      },
      "outputs": [],
      "source": [
        "y_dummies \u003d pd.get_dummies(games[\u0027Wynik\u0027]).reset_index().drop(columns\u003d[\u0027Id\u0027])"
      ]
    },
    {
      "cell_type": "code",
      "execution_count": 12,
      "metadata": {
        "pycharm": {}
      },
      "outputs": [],
      "source": [
        "with open(\u0027./data/y_dummies_train.csv\u0027, \u0027w\u0027) as csvfile:\n",
        "    y_dummies.head(1000).to_csv(csvfile)"
      ]
    },
    {
      "cell_type": "code",
      "execution_count": 13,
      "metadata": {
        "pycharm": {}
      },
      "outputs": [],
      "source": [
        "y \u003d y.replace([\u0027PLAYER_0 WON\u0027, \u0027PLAYER_1 WON\u0027], [0, 1])\n",
        "y \u003d y.reset_index().drop(columns\u003d[\u0027Id\u0027])"
      ]
    },
    {
      "cell_type": "code",
      "execution_count": 14,
      "metadata": {
        "pycharm": {}
      },
      "outputs": [],
      "source": [
        "with open(\u0027./data/y_train.csv\u0027, \u0027w\u0027) as csvfile:\n",
        "    y.head(1000).to_csv(csvfile)"
      ]
    },
    {
      "cell_type": "code",
      "execution_count": 16,
      "metadata": {
        "pycharm": {}
      },
      "outputs": [],
      "source": [
        "X_train, X_test, y_train, y_test \u003d train_test_split(X_train, y, test_size\u003d0.1)"
      ]
    },
    {
      "cell_type": "markdown",
      "metadata": {
        "pycharm": {}
      },
      "source": [
        "## Naive Bayes model"
      ]
    },
    {
      "cell_type": "code",
      "execution_count": 17,
      "metadata": {
        "pycharm": {}
      },
      "outputs": [
        {
          "name": "stderr",
          "output_type": "stream",
          "text": [
            "/home/kris/Desktop/repair/challenge_project/venv/lib/python3.6/site-packages/sklearn/utils/validation.py:761: DataConversionWarning: A column-vector y was passed when a 1d array was expected. Please change the shape of y to (n_samples, ), for example using ravel().\n",
            "  y \u003d column_or_1d(y, warn\u003dTrue)\n"
          ]
        },
        {
          "data": {
            "text/plain": [
              "MultinomialNB(alpha\u003d1.0, class_prior\u003dNone, fit_prior\u003dTrue)"
            ]
          },
          "execution_count": 17,
          "metadata": {},
          "output_type": "execute_result"
        }
      ],
      "source": [
        "mnb \u003d MultinomialNB()\n",
        "mnb.fit(X_train, y_train)"
      ]
    },
    {
      "cell_type": "code",
      "execution_count": 18,
      "metadata": {
        "pycharm": {}
      },
      "outputs": [
        {
          "data": {
            "text/plain": [
              "0.5"
            ]
          },
          "execution_count": 18,
          "metadata": {},
          "output_type": "execute_result"
        }
      ],
      "source": [
        "mnb.score(X_test, y_test)"
      ]
    },
    {
      "cell_type": "markdown",
      "metadata": {
        "pycharm": {}
      },
      "source": [
        "## Results:"
      ]
    },
    {
      "cell_type": "code",
      "execution_count": 59,
      "metadata": {
        "pycharm": {}
      },
      "outputs": [
        {
          "name": "stdout",
          "output_type": "stream",
          "text": [
            "            Abyssal Enforcer  Acherus Veteran  Acidic Swamp Ooze  \\\n",
            "deckName                                                           \n",
            "deck244804                 0                0                  0   \n",
            "deck124802                 0                0                  0   \n",
            "deck687350                 0                0                  0   \n",
            "deck517728                 0                0                  0   \n",
            "deck130762                 0                0                  0   \n",
            "\n",
            "            Acolyte of Agony  Acolyte of Pain  Al\u0027Akir the Windlord  Alleycat  \\\n",
            "deckName                                                                        \n",
            "deck244804                 0                1                     0         0   \n",
            "deck124802                 0                2                     0         0   \n",
            "deck687350                 0                1                     0         0   \n",
            "deck517728                 0                2                     0         0   \n",
            "deck130762                 0                0                     0         0   \n",
            "\n",
            "            Aluneth  Ancestral Healing  Animal Companion   ...     Wrath  \\\n",
            "deckName                                                   ...             \n",
            "deck244804        1                  0                 0   ...         0   \n",
            "deck124802        0                  0                 0   ...         0   \n",
            "deck687350        0                  0                 0   ...         0   \n",
            "deck517728        0                  0                 0   ...         0   \n",
            "deck130762        1                  0                 0   ...         0   \n",
            "\n",
            "            Druid  Hunter  Mage  Paladin  Priest  Rogue  Shaman  Warlock  \\\n",
            "deckName                                                                   \n",
            "deck244804      0       0     1        0       0      0       0        0   \n",
            "deck124802      0       0     0        0       0      0       0        0   \n",
            "deck687350      0       0     0        0       0      0       0        0   \n",
            "deck517728      0       0     0        0       0      0       0        0   \n",
            "deck130762      0       0     1        0       0      0       0        0   \n",
            "\n",
            "            Warrior  \n",
            "deckName             \n",
            "deck244804        0  \n",
            "deck124802        1  \n",
            "deck687350        1  \n",
            "deck517728        1  \n",
            "deck130762        0  \n",
            "\n",
            "[5 rows x 339 columns]\n"
          ]
        }
      ],
      "source": [
        "test_decks \u003d pd.read_json(\u0027../testDecks.json\u0027, lines\u003dTrue)\n",
        "test_decks[\u0027deckName\u0027] \u003d test_decks[\u0027deckName\u0027].apply(operator.itemgetter(0))\n",
        "test_decks[\u0027hero\u0027] \u003d test_decks[\u0027hero\u0027].apply(operator.itemgetter(0))\n",
        "column_names_single \u003d list(decks.columns.values)\n",
        "zero_data_single \u003d np.zeros(shape\u003d(0, decks.shape[1]))\n",
        "#result \u003d pd.DataFrame(zero_data_single, columns\u003dcolumn_names_single)\n",
        "data \u003d [[]]\n",
        "hero_dict \u003d {\u0027Druid\u0027: 330, \u0027Hunter\u0027: 331, \u0027Mage\u0027: 332, \u0027Paladin\u0027: 333, \u0027Priest\u0027: 334, \u0027Rogue\u0027: 335, \u0027Shaman\u0027: 336, \u0027Warlock\u0027: 337, \u0027Warrior\u0027: 338}\n",
        "\n",
        "for index, row in test_decks.iterrows():\n",
        "    new_row \u003d []\n",
        "    \n",
        "    for card in list(decks.columns):\n",
        "        if card in row[\u0027cards\u0027]:\n",
        "            new_row.append(row[\u0027cards\u0027][card][0])\n",
        "        else:\n",
        "            new_row.append(0)\n",
        "            \n",
        "    new_row[hero_dict[row[\u0027hero\u0027]]] \u003d 1\n",
        "            \n",
        "    data.append(new_row)\n",
        "\n",
        "data.remove([])\n",
        "result \u003d pd.DataFrame(data, columns\u003dcolumn_names_single, index\u003dtest_decks.loc[:][\u0027deckName\u0027])\n",
        "print(result.head())"
      ]
    },
    {
      "cell_type": "code",
      "execution_count": 27,
      "metadata": {
        "pycharm": {}
      },
      "outputs": [],
      "source": [
        "bots \u003d [\u0027A1\u0027, \u0027A2\u0027, \u0027B1\u0027, \u0027B2\u0027]\n",
        "\n",
        "with open(\u0027results.csv\u0027, \u0027w\u0027) as csvfile:\n",
        "    row_writer \u003d csv.writer(csvfile, delimiter\u003d\u0027;\u0027, quotechar\u003d\u0027|\u0027, quoting\u003dcsv.QUOTE_MINIMAL)\n",
        "    \n",
        "    for bot in bots:\n",
        "        for j in range(200):\n",
        "            sum_scores \u003d 0\n",
        "            \n",
        "            for i in range(400):\n",
        "                to_count \u003d pd.concat([result.iloc[j], decks.iloc[i]])\n",
        "                sum_scores \u003d sum_scores + mnb.predict_proba([to_count])[0][0]\n",
        "                \n",
        "            mean \u003d sum_scores / 6\n",
        "            \n",
        "            row_writer.writerow([bot, result.index[j], str(round(mean, 1))])"
      ]
    }
  ],
  "metadata": {
    "kernelspec": {
      "display_name": "Python 3",
      "language": "python",
      "name": "python3"
    },
    "language_info": {
      "codemirror_mode": {
        "name": "ipython",
        "version": 3
      },
      "file_extension": ".py",
      "mimetype": "text/x-python",
      "name": "python",
      "nbconvert_exporter": "python",
      "pygments_lexer": "ipython3",
      "version": "3.6.7"
    }
  },
  "nbformat": 4,
  "nbformat_minor": 1
}