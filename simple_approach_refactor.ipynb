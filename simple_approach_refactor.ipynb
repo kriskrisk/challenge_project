{
 "cells": [
  {
   "cell_type": "markdown",
   "metadata": {
    "collapsed": true,
    "pycharm": {}
   },
   "source": [
    "Simple approach to check how it all works."
   ]
  },
  {
   "cell_type": "code",
   "execution_count": 1,
   "metadata": {
    "pycharm": {}
   },
   "outputs": [
    {
     "name": "stderr",
     "output_type": "stream",
     "text": [
      "Using TensorFlow backend.\n"
     ]
    }
   ],
   "source": [
    "import csv\n",
    "import operator\n",
    "\n",
    "from keras.callbacks import History\n",
    "from keras.layers import (\n",
    "    Activation,\n",
    "    Conv1D,\n",
    "    Dense,\n",
    "    Dropout,\n",
    "    Flatten,\n",
    "    MaxPooling1D,\n",
    ")\n",
    "from keras.models import Sequential\n",
    "from keras.optimizers import (\n",
    "    SGD,\n",
    "    RMSprop,\n",
    ")\n",
    "\n",
    "import matplotlib.pyplot as plt\n",
    "import numpy as np\n",
    "import pandas as pd\n",
    "\n",
    "from sklearn.model_selection import train_test_split\n",
    "from sklearn.naive_bayes import MultinomialNB"
   ]
  },
  {
   "cell_type": "markdown",
   "metadata": {
    "pycharm": {
     "metadata": false
    }
   },
   "source": [
    "## Simple preprocessing"
   ]
  },
  {
   "cell_type": "code",
   "execution_count": 20,
   "metadata": {
    "pycharm": {},
    "scrolled": true
   },
   "outputs": [],
   "source": [
    "decks = pd.read_csv(\"./data/decks.csv\", index_col=0)\n",
    "games = pd.read_csv(\"./data/training_games.csv\", sep=';', index_col=0)"
   ]
  },
  {
   "cell_type": "code",
   "execution_count": 11,
   "metadata": {
    "pycharm": {}
   },
   "outputs": [],
   "source": [
    "# Random permutation of games:\n",
    "games = games.sample(frac=1)"
   ]
  },
  {
   "cell_type": "code",
   "execution_count": 13,
   "metadata": {
    "pycharm": {}
   },
   "outputs": [
    {
     "name": "stderr",
     "output_type": "stream",
     "text": [
      "/home/kris/PycharmProjects/SUS/lab1/venv/lib/python3.5/site-packages/ipykernel_launcher.py:15: SettingWithCopyWarning: \n",
      "A value is trying to be set on a copy of a slice from a DataFrame\n",
      "\n",
      "See the caveats in the documentation: http://pandas.pydata.org/pandas-docs/stable/indexing.html#indexing-view-versus-copy\n",
      "  from ipykernel import kernelapp as app\n"
     ]
    }
   ],
   "source": [
    "decks['prob'] = [0] * 400\n",
    "decks['prob'] = decks['prob'].astype('float')\n",
    "\n",
    "for index, _ in decks.iterrows():\n",
    "    temp = games.loc[games['Talia1'] == index]\n",
    "    times_played = temp.shape[0]\n",
    "    temp = temp.loc[temp['Wynik'] == 'PLAYER_0 WON']\n",
    "    times_won = temp.shape[0]\n",
    "    \n",
    "    temp = games.loc[games['Talia2'] == index]\n",
    "    times_played = times_played + temp.shape[0]\n",
    "    temp = temp.loc[temp['Wynik'] == 'PLAYER_1 WON']\n",
    "    times_won = times_won + temp.shape[0]\n",
    "    \n",
    "    decks['prob'][index] = times_won / times_played"
   ]
  },
  {
   "cell_type": "code",
   "execution_count": 16,
   "metadata": {
    "pycharm": {}
   },
   "outputs": [
    {
     "name": "stderr",
     "output_type": "stream",
     "text": [
      "/home/kris/PycharmProjects/SUS/lab1/venv/lib/python3.5/site-packages/ipykernel_launcher.py:18: SettingWithCopyWarning: \n",
      "A value is trying to be set on a copy of a slice from a DataFrame\n",
      "\n",
      "See the caveats in the documentation: http://pandas.pydata.org/pandas-docs/stable/indexing.html#indexing-view-versus-copy\n"
     ]
    }
   ],
   "source": [
    "bots = ['A1', 'A2', 'B1', 'B2']\n",
    "\n",
    "for bot in bots:\n",
    "    decks['prob_' + bot] = [0] * 400\n",
    "    decks['prob_' + bot] = decks['prob_' + bot].astype('float')\n",
    "    \n",
    "    for index, _ in decks.iterrows():\n",
    "        temp = games.loc[(games['Talia1'] == index) & (games['Gracz1'] == bot)]\n",
    "        times_played = temp.shape[0]\n",
    "        temp = temp.loc[temp['Wynik'] == 'PLAYER_0 WON']\n",
    "        times_won = temp.shape[0]\n",
    "        \n",
    "        temp = games.loc[(games['Talia2'] == index) & (games['Gracz1'] == bot)]\n",
    "        times_played = times_played + temp.shape[0]\n",
    "        temp = temp.loc[temp['Wynik'] == 'PLAYER_1 WON']\n",
    "        times_won = times_won + temp.shape[0]\n",
    "        \n",
    "        decks['prob_' + bot][index] = times_won/times_played"
   ]
  },
  {
   "cell_type": "code",
   "execution_count": 7,
   "metadata": {
    "pycharm": {}
   },
   "outputs": [],
   "source": [
    "# Save to be able to access data many times without running preprocessing.\n",
    "decks.to_csv('./data/adjusted_decks.csv')"
   ]
  },
  {
   "cell_type": "code",
   "execution_count": 21,
   "metadata": {},
   "outputs": [],
   "source": [
    "# Get example of games\n",
    "games_100_rows = games.head(100)\n",
    "games_100_rows.to_csv('./data/games_100_rows.csv')"
   ]
  },
  {
   "cell_type": "markdown",
   "metadata": {
    "pycharm": {
     "metadata": false
    }
   },
   "source": [
    "## Getting and preparing data"
   ]
  },
  {
   "cell_type": "code",
   "execution_count": 2,
   "metadata": {
    "pycharm": {
     "name": "#%%\n"
    }
   },
   "outputs": [
    {
     "name": "stdout",
     "output_type": "stream",
     "text": [
      "There are 400 decks. Each one is represented as 344 dimensional vector.\n",
      "\n",
      "This is how it looks like:\n"
     ]
    },
    {
     "data": {
      "text/html": [
       "<div>\n",
       "<style scoped>\n",
       "    .dataframe tbody tr th:only-of-type {\n",
       "        vertical-align: middle;\n",
       "    }\n",
       "\n",
       "    .dataframe tbody tr th {\n",
       "        vertical-align: top;\n",
       "    }\n",
       "\n",
       "    .dataframe thead th {\n",
       "        text-align: right;\n",
       "    }\n",
       "</style>\n",
       "<table border=\"1\" class=\"dataframe\">\n",
       "  <thead>\n",
       "    <tr style=\"text-align: right;\">\n",
       "      <th></th>\n",
       "      <th>Abyssal Enforcer</th>\n",
       "      <th>Acherus Veteran</th>\n",
       "      <th>Acidic Swamp Ooze</th>\n",
       "      <th>Acolyte of Agony</th>\n",
       "      <th>Acolyte of Pain</th>\n",
       "      <th>Al'Akir the Windlord</th>\n",
       "      <th>Alleycat</th>\n",
       "      <th>Aluneth</th>\n",
       "      <th>Ancestral Healing</th>\n",
       "      <th>Animal Companion</th>\n",
       "      <th>...</th>\n",
       "      <th>Priest</th>\n",
       "      <th>Rogue</th>\n",
       "      <th>Shaman</th>\n",
       "      <th>Warlock</th>\n",
       "      <th>Warrior</th>\n",
       "      <th>prob</th>\n",
       "      <th>prob_A1</th>\n",
       "      <th>prob_A2</th>\n",
       "      <th>prob_B1</th>\n",
       "      <th>prob_B2</th>\n",
       "    </tr>\n",
       "    <tr>\n",
       "      <th>deckName</th>\n",
       "      <th></th>\n",
       "      <th></th>\n",
       "      <th></th>\n",
       "      <th></th>\n",
       "      <th></th>\n",
       "      <th></th>\n",
       "      <th></th>\n",
       "      <th></th>\n",
       "      <th></th>\n",
       "      <th></th>\n",
       "      <th></th>\n",
       "      <th></th>\n",
       "      <th></th>\n",
       "      <th></th>\n",
       "      <th></th>\n",
       "      <th></th>\n",
       "      <th></th>\n",
       "      <th></th>\n",
       "      <th></th>\n",
       "      <th></th>\n",
       "      <th></th>\n",
       "    </tr>\n",
       "  </thead>\n",
       "  <tbody>\n",
       "    <tr>\n",
       "      <th>deck252103</th>\n",
       "      <td>0</td>\n",
       "      <td>0</td>\n",
       "      <td>0</td>\n",
       "      <td>0</td>\n",
       "      <td>2</td>\n",
       "      <td>0</td>\n",
       "      <td>0</td>\n",
       "      <td>0</td>\n",
       "      <td>0</td>\n",
       "      <td>0</td>\n",
       "      <td>...</td>\n",
       "      <td>0</td>\n",
       "      <td>0</td>\n",
       "      <td>0</td>\n",
       "      <td>0</td>\n",
       "      <td>1</td>\n",
       "      <td>0.408011</td>\n",
       "      <td>0.402576</td>\n",
       "      <td>0.429119</td>\n",
       "      <td>0.410319</td>\n",
       "      <td>0.391304</td>\n",
       "    </tr>\n",
       "    <tr>\n",
       "      <th>deck105300</th>\n",
       "      <td>0</td>\n",
       "      <td>0</td>\n",
       "      <td>0</td>\n",
       "      <td>0</td>\n",
       "      <td>0</td>\n",
       "      <td>0</td>\n",
       "      <td>0</td>\n",
       "      <td>0</td>\n",
       "      <td>0</td>\n",
       "      <td>0</td>\n",
       "      <td>...</td>\n",
       "      <td>1</td>\n",
       "      <td>0</td>\n",
       "      <td>0</td>\n",
       "      <td>0</td>\n",
       "      <td>0</td>\n",
       "      <td>0.430965</td>\n",
       "      <td>0.469605</td>\n",
       "      <td>0.430657</td>\n",
       "      <td>0.374684</td>\n",
       "      <td>0.412121</td>\n",
       "    </tr>\n",
       "    <tr>\n",
       "      <th>deck822100</th>\n",
       "      <td>0</td>\n",
       "      <td>1</td>\n",
       "      <td>0</td>\n",
       "      <td>0</td>\n",
       "      <td>0</td>\n",
       "      <td>0</td>\n",
       "      <td>0</td>\n",
       "      <td>0</td>\n",
       "      <td>0</td>\n",
       "      <td>0</td>\n",
       "      <td>...</td>\n",
       "      <td>0</td>\n",
       "      <td>0</td>\n",
       "      <td>0</td>\n",
       "      <td>0</td>\n",
       "      <td>0</td>\n",
       "      <td>0.620577</td>\n",
       "      <td>0.629283</td>\n",
       "      <td>0.609155</td>\n",
       "      <td>0.602469</td>\n",
       "      <td>0.646154</td>\n",
       "    </tr>\n",
       "    <tr>\n",
       "      <th>deck829295</th>\n",
       "      <td>0</td>\n",
       "      <td>0</td>\n",
       "      <td>0</td>\n",
       "      <td>0</td>\n",
       "      <td>2</td>\n",
       "      <td>0</td>\n",
       "      <td>0</td>\n",
       "      <td>0</td>\n",
       "      <td>0</td>\n",
       "      <td>0</td>\n",
       "      <td>...</td>\n",
       "      <td>0</td>\n",
       "      <td>0</td>\n",
       "      <td>0</td>\n",
       "      <td>1</td>\n",
       "      <td>0</td>\n",
       "      <td>0.544320</td>\n",
       "      <td>0.567732</td>\n",
       "      <td>0.572414</td>\n",
       "      <td>0.482051</td>\n",
       "      <td>0.548387</td>\n",
       "    </tr>\n",
       "    <tr>\n",
       "      <th>deck627915</th>\n",
       "      <td>0</td>\n",
       "      <td>0</td>\n",
       "      <td>0</td>\n",
       "      <td>0</td>\n",
       "      <td>0</td>\n",
       "      <td>1</td>\n",
       "      <td>0</td>\n",
       "      <td>0</td>\n",
       "      <td>0</td>\n",
       "      <td>0</td>\n",
       "      <td>...</td>\n",
       "      <td>0</td>\n",
       "      <td>0</td>\n",
       "      <td>1</td>\n",
       "      <td>0</td>\n",
       "      <td>0</td>\n",
       "      <td>0.456177</td>\n",
       "      <td>0.456311</td>\n",
       "      <td>0.481356</td>\n",
       "      <td>0.435616</td>\n",
       "      <td>0.456140</td>\n",
       "    </tr>\n",
       "  </tbody>\n",
       "</table>\n",
       "<p>5 rows × 344 columns</p>\n",
       "</div>"
      ],
      "text/plain": [
       "            Abyssal Enforcer  Acherus Veteran  Acidic Swamp Ooze  \\\n",
       "deckName                                                           \n",
       "deck252103                 0                0                  0   \n",
       "deck105300                 0                0                  0   \n",
       "deck822100                 0                1                  0   \n",
       "deck829295                 0                0                  0   \n",
       "deck627915                 0                0                  0   \n",
       "\n",
       "            Acolyte of Agony  Acolyte of Pain  Al'Akir the Windlord  Alleycat  \\\n",
       "deckName                                                                        \n",
       "deck252103                 0                2                     0         0   \n",
       "deck105300                 0                0                     0         0   \n",
       "deck822100                 0                0                     0         0   \n",
       "deck829295                 0                2                     0         0   \n",
       "deck627915                 0                0                     1         0   \n",
       "\n",
       "            Aluneth  Ancestral Healing  Animal Companion  ...  Priest  Rogue  \\\n",
       "deckName                                                  ...                  \n",
       "deck252103        0                  0                 0  ...       0      0   \n",
       "deck105300        0                  0                 0  ...       1      0   \n",
       "deck822100        0                  0                 0  ...       0      0   \n",
       "deck829295        0                  0                 0  ...       0      0   \n",
       "deck627915        0                  0                 0  ...       0      0   \n",
       "\n",
       "            Shaman  Warlock  Warrior      prob   prob_A1   prob_A2   prob_B1  \\\n",
       "deckName                                                                       \n",
       "deck252103       0        0        1  0.408011  0.402576  0.429119  0.410319   \n",
       "deck105300       0        0        0  0.430965  0.469605  0.430657  0.374684   \n",
       "deck822100       0        0        0  0.620577  0.629283  0.609155  0.602469   \n",
       "deck829295       0        1        0  0.544320  0.567732  0.572414  0.482051   \n",
       "deck627915       1        0        0  0.456177  0.456311  0.481356  0.435616   \n",
       "\n",
       "             prob_B2  \n",
       "deckName              \n",
       "deck252103  0.391304  \n",
       "deck105300  0.412121  \n",
       "deck822100  0.646154  \n",
       "deck829295  0.548387  \n",
       "deck627915  0.456140  \n",
       "\n",
       "[5 rows x 344 columns]"
      ]
     },
     "execution_count": 2,
     "metadata": {},
     "output_type": "execute_result"
    }
   ],
   "source": [
    "decks = pd.read_csv('./data/adjusted_decks.csv', index_col=0)\n",
    "print(f'There are {decks.shape[0]} decks. Each one is represented as {decks.shape[1]} dimensional vector.\\n')\n",
    "print('This is how it looks like:')\n",
    "decks.head()"
   ]
  },
  {
   "cell_type": "code",
   "execution_count": 3,
   "metadata": {
    "scrolled": true
   },
   "outputs": [
    {
     "data": {
      "text/html": [
       "<div>\n",
       "<style scoped>\n",
       "    .dataframe tbody tr th:only-of-type {\n",
       "        vertical-align: middle;\n",
       "    }\n",
       "\n",
       "    .dataframe tbody tr th {\n",
       "        vertical-align: top;\n",
       "    }\n",
       "\n",
       "    .dataframe thead th {\n",
       "        text-align: right;\n",
       "    }\n",
       "</style>\n",
       "<table border=\"1\" class=\"dataframe\">\n",
       "  <thead>\n",
       "    <tr style=\"text-align: right;\">\n",
       "      <th></th>\n",
       "      <th>Gracz1</th>\n",
       "      <th>Talia1</th>\n",
       "      <th>Gracz2</th>\n",
       "      <th>Talia2</th>\n",
       "      <th>Wynik</th>\n",
       "    </tr>\n",
       "    <tr>\n",
       "      <th>Id</th>\n",
       "      <th></th>\n",
       "      <th></th>\n",
       "      <th></th>\n",
       "      <th></th>\n",
       "      <th></th>\n",
       "    </tr>\n",
       "  </thead>\n",
       "  <tbody>\n",
       "    <tr>\n",
       "      <th>100001.0</th>\n",
       "      <td>A1</td>\n",
       "      <td>deck113225</td>\n",
       "      <td>A1</td>\n",
       "      <td>deck731599</td>\n",
       "      <td>PLAYER_0 WON</td>\n",
       "    </tr>\n",
       "    <tr>\n",
       "      <th>100002.0</th>\n",
       "      <td>A1</td>\n",
       "      <td>deck694943</td>\n",
       "      <td>A1</td>\n",
       "      <td>deck929572</td>\n",
       "      <td>PLAYER_1 WON</td>\n",
       "    </tr>\n",
       "    <tr>\n",
       "      <th>100003.0</th>\n",
       "      <td>A1</td>\n",
       "      <td>deck182567</td>\n",
       "      <td>A1</td>\n",
       "      <td>deck525929</td>\n",
       "      <td>PLAYER_0 WON</td>\n",
       "    </tr>\n",
       "    <tr>\n",
       "      <th>100004.0</th>\n",
       "      <td>A1</td>\n",
       "      <td>deck219364</td>\n",
       "      <td>A1</td>\n",
       "      <td>deck757429</td>\n",
       "      <td>PLAYER_1 WON</td>\n",
       "    </tr>\n",
       "    <tr>\n",
       "      <th>100005.0</th>\n",
       "      <td>A1</td>\n",
       "      <td>deck826229</td>\n",
       "      <td>A1</td>\n",
       "      <td>deck337123</td>\n",
       "      <td>PLAYER_1 WON</td>\n",
       "    </tr>\n",
       "  </tbody>\n",
       "</table>\n",
       "</div>"
      ],
      "text/plain": [
       "         Gracz1      Talia1 Gracz2      Talia2         Wynik\n",
       "Id                                                          \n",
       "100001.0     A1  deck113225     A1  deck731599  PLAYER_0 WON\n",
       "100002.0     A1  deck694943     A1  deck929572  PLAYER_1 WON\n",
       "100003.0     A1  deck182567     A1  deck525929  PLAYER_0 WON\n",
       "100004.0     A1  deck219364     A1  deck757429  PLAYER_1 WON\n",
       "100005.0     A1  deck826229     A1  deck337123  PLAYER_1 WON"
      ]
     },
     "execution_count": 3,
     "metadata": {},
     "output_type": "execute_result"
    }
   ],
   "source": [
    "# games = pd.read_csv('./data/training_games.csv', index_col=0)\n",
    "games = pd.read_csv('./data/games_100_rows.csv', index_col=0)\n",
    "games.head()"
   ]
  },
  {
   "cell_type": "code",
   "execution_count": 4,
   "metadata": {
    "pycharm": {}
   },
   "outputs": [
    {
     "name": "stderr",
     "output_type": "stream",
     "text": [
      "/home/kris/Desktop/repair/challenge_project/venv/lib/python3.6/site-packages/ipykernel_launcher.py:2: FutureWarning: The signature of `Series.to_csv` was aligned to that of `DataFrame.to_csv`, and argument 'header' will change its default value from False to True: please pass an explicit value to suppress this warning.\n",
      "  \n"
     ]
    }
   ],
   "source": [
    "# Save for later\n",
    "decks['prob'].to_csv('./data/prob.csv')"
   ]
  },
  {
   "cell_type": "code",
   "execution_count": 5,
   "metadata": {
    "pycharm": {}
   },
   "outputs": [],
   "source": [
    "prob = pd.read_csv(\"./data/prob.csv\", index_col=0)"
   ]
  },
  {
   "cell_type": "code",
   "execution_count": 6,
   "metadata": {
    "pycharm": {}
   },
   "outputs": [],
   "source": [
    "zero_data = np.zeros(shape=(0, 2 * decks.shape[1]))\n",
    "column_names = 2 * list(decks.columns.values)\n",
    "X_train = pd.concat([decks.loc[games.loc[i][\"Talia1\"]].append(decks.loc[games.loc[i][\"Talia2\"]])\n",
    "                    for i in range(100001, 100001 + games.shape[0])], axis=1, ignore_index=True)"
   ]
  },
  {
   "cell_type": "code",
   "execution_count": 7,
   "metadata": {
    "pycharm": {}
   },
   "outputs": [],
   "source": [
    "X_train = X_train.transpose()"
   ]
  },
  {
   "cell_type": "code",
   "execution_count": 8,
   "metadata": {
    "pycharm": {}
   },
   "outputs": [],
   "source": [
    "dummies_ai1 = pd.get_dummies(games['Gracz1']).reset_index().drop(columns=['Id'])\n",
    "dummies_ai2 = pd.get_dummies(games['Gracz2']).reset_index().drop(columns=['Id'])\n",
    "X_train = pd.concat([X_train, dummies_ai1, dummies_ai2], axis=1)"
   ]
  },
  {
   "cell_type": "code",
   "execution_count": 9,
   "metadata": {
    "pycharm": {}
   },
   "outputs": [],
   "source": [
    "# Save for later\n",
    "with open('X_train.csv', 'w') as csvfile:\n",
    "    X_train.head(1000).to_csv(csvfile)"
   ]
  },
  {
   "cell_type": "code",
   "execution_count": 10,
   "metadata": {
    "pycharm": {}
   },
   "outputs": [],
   "source": [
    "y = games['Wynik']"
   ]
  },
  {
   "cell_type": "code",
   "execution_count": 11,
   "metadata": {
    "pycharm": {}
   },
   "outputs": [],
   "source": [
    "y_dummies = pd.get_dummies(games['Wynik']).reset_index().drop(columns=['Id'])"
   ]
  },
  {
   "cell_type": "code",
   "execution_count": 12,
   "metadata": {
    "pycharm": {}
   },
   "outputs": [],
   "source": [
    "with open('y_dummies_train.csv', 'w') as csvfile:\n",
    "    y_dummies.head(1000).to_csv(csvfile)"
   ]
  },
  {
   "cell_type": "code",
   "execution_count": 13,
   "metadata": {
    "pycharm": {}
   },
   "outputs": [],
   "source": [
    "y = y.replace(['PLAYER_0 WON', 'PLAYER_1 WON'], [0, 1])\n",
    "y = y.reset_index().drop(columns=['Id'])"
   ]
  },
  {
   "cell_type": "code",
   "execution_count": 14,
   "metadata": {
    "pycharm": {}
   },
   "outputs": [],
   "source": [
    "with open('y_train.csv', 'w') as csvfile:\n",
    "    y.head(1000).to_csv(csvfile)"
   ]
  },
  {
   "cell_type": "code",
   "execution_count": 16,
   "metadata": {
    "pycharm": {}
   },
   "outputs": [],
   "source": [
    "X_train, X_test, y_train, y_test = train_test_split(X_train, y, test_size=0.1)"
   ]
  },
  {
   "cell_type": "markdown",
   "metadata": {
    "pycharm": {}
   },
   "source": [
    "## Naive Bayes"
   ]
  },
  {
   "cell_type": "code",
   "execution_count": 17,
   "metadata": {
    "pycharm": {}
   },
   "outputs": [
    {
     "name": "stderr",
     "output_type": "stream",
     "text": [
      "/home/kris/Desktop/repair/challenge_project/venv/lib/python3.6/site-packages/sklearn/utils/validation.py:761: DataConversionWarning: A column-vector y was passed when a 1d array was expected. Please change the shape of y to (n_samples, ), for example using ravel().\n",
      "  y = column_or_1d(y, warn=True)\n"
     ]
    },
    {
     "data": {
      "text/plain": [
       "MultinomialNB(alpha=1.0, class_prior=None, fit_prior=True)"
      ]
     },
     "execution_count": 17,
     "metadata": {},
     "output_type": "execute_result"
    }
   ],
   "source": [
    "mnb = MultinomialNB()\n",
    "mnb.fit(X_train, y_train)"
   ]
  },
  {
   "cell_type": "code",
   "execution_count": 18,
   "metadata": {
    "pycharm": {}
   },
   "outputs": [
    {
     "data": {
      "text/plain": [
       "0.5"
      ]
     },
     "execution_count": 18,
     "metadata": {},
     "output_type": "execute_result"
    }
   ],
   "source": [
    "mnb.score(X_test, y_test)"
   ]
  },
  {
   "cell_type": "markdown",
   "metadata": {
    "pycharm": {}
   },
   "source": [
    "### Results:"
   ]
  },
  {
   "cell_type": "code",
   "execution_count": 59,
   "metadata": {
    "pycharm": {}
   },
   "outputs": [
    {
     "name": "stdout",
     "output_type": "stream",
     "text": [
      "            Abyssal Enforcer  Acherus Veteran  Acidic Swamp Ooze  \\\n",
      "deckName                                                           \n",
      "deck244804                 0                0                  0   \n",
      "deck124802                 0                0                  0   \n",
      "deck687350                 0                0                  0   \n",
      "deck517728                 0                0                  0   \n",
      "deck130762                 0                0                  0   \n",
      "\n",
      "            Acolyte of Agony  Acolyte of Pain  Al'Akir the Windlord  Alleycat  \\\n",
      "deckName                                                                        \n",
      "deck244804                 0                1                     0         0   \n",
      "deck124802                 0                2                     0         0   \n",
      "deck687350                 0                1                     0         0   \n",
      "deck517728                 0                2                     0         0   \n",
      "deck130762                 0                0                     0         0   \n",
      "\n",
      "            Aluneth  Ancestral Healing  Animal Companion   ...     Wrath  \\\n",
      "deckName                                                   ...             \n",
      "deck244804        1                  0                 0   ...         0   \n",
      "deck124802        0                  0                 0   ...         0   \n",
      "deck687350        0                  0                 0   ...         0   \n",
      "deck517728        0                  0                 0   ...         0   \n",
      "deck130762        1                  0                 0   ...         0   \n",
      "\n",
      "            Druid  Hunter  Mage  Paladin  Priest  Rogue  Shaman  Warlock  \\\n",
      "deckName                                                                   \n",
      "deck244804      0       0     1        0       0      0       0        0   \n",
      "deck124802      0       0     0        0       0      0       0        0   \n",
      "deck687350      0       0     0        0       0      0       0        0   \n",
      "deck517728      0       0     0        0       0      0       0        0   \n",
      "deck130762      0       0     1        0       0      0       0        0   \n",
      "\n",
      "            Warrior  \n",
      "deckName             \n",
      "deck244804        0  \n",
      "deck124802        1  \n",
      "deck687350        1  \n",
      "deck517728        1  \n",
      "deck130762        0  \n",
      "\n",
      "[5 rows x 339 columns]\n"
     ]
    }
   ],
   "source": [
    "test_decks = pd.read_json('../testDecks.json', lines=True)\n",
    "test_decks['deckName'] = test_decks['deckName'].apply(operator.itemgetter(0))\n",
    "test_decks['hero'] = test_decks['hero'].apply(operator.itemgetter(0))\n",
    "column_names_single = list(decks.columns.values)\n",
    "zero_data_single = np.zeros(shape=(0, decks.shape[1]))\n",
    "#result = pd.DataFrame(zero_data_single, columns=column_names_single)\n",
    "data = [[]]\n",
    "hero_dict = {'Druid': 330, 'Hunter': 331, 'Mage': 332, 'Paladin': 333, 'Priest': 334, 'Rogue': 335, 'Shaman': 336, 'Warlock': 337, 'Warrior': 338}\n",
    "\n",
    "for index, row in test_decks.iterrows():\n",
    "    new_row = []\n",
    "    \n",
    "    for card in list(decks.columns):\n",
    "        if card in row['cards']:\n",
    "            new_row.append(row['cards'][card][0])\n",
    "        else:\n",
    "            new_row.append(0)\n",
    "            \n",
    "    new_row[hero_dict[row['hero']]] = 1\n",
    "            \n",
    "    data.append(new_row)\n",
    "\n",
    "data.remove([])\n",
    "result = pd.DataFrame(data, columns=column_names_single, index=test_decks.loc[:]['deckName'])\n",
    "print(result.head())"
   ]
  },
  {
   "cell_type": "code",
   "execution_count": null,
   "metadata": {
    "pycharm": {}
   },
   "outputs": [],
   "source": [
    "#all_decks = pd.concat([decks, result], axis=0)\n",
    "#print(all_decks.head())"
   ]
  },
  {
   "cell_type": "code",
   "execution_count": 27,
   "metadata": {
    "pycharm": {}
   },
   "outputs": [],
   "source": [
    "bots = ['A1', 'A2', 'B1', 'B2']\n",
    "\n",
    "with open('results.csv', 'w') as csvfile:\n",
    "    row_writer = csv.writer(csvfile, delimiter=';', quotechar='|', quoting=csv.QUOTE_MINIMAL)\n",
    "    \n",
    "    for bot in bots:\n",
    "        for j in range(200):\n",
    "            sum_scores = 0\n",
    "            \n",
    "            for i in range(400):\n",
    "                to_count = pd.concat([result.iloc[j], decks.iloc[i]])\n",
    "                sum_scores = sum_scores + mnb.predict_proba([to_count])[0][0]\n",
    "                \n",
    "            mean = sum_scores / 6\n",
    "            \n",
    "            row_writer.writerow([bot, result.index[j], str(round(mean, 1))])"
   ]
  },
  {
   "cell_type": "markdown",
   "metadata": {
    "pycharm": {}
   },
   "source": [
    "## CNN"
   ]
  },
  {
   "cell_type": "code",
   "execution_count": 56,
   "metadata": {
    "pycharm": {}
   },
   "outputs": [],
   "source": [
    "batch_size = 128\n",
    "num_classes = 1\n",
    "nepochs = 10\n",
    "learning_rate = 0.03\n",
    "decay_rate = learning_rate / nepochs"
   ]
  },
  {
   "cell_type": "code",
   "execution_count": 57,
   "metadata": {
    "pycharm": {}
   },
   "outputs": [],
   "source": [
    "model = Sequential()\n",
    "\n",
    "model.add(Conv1D(32, 3, padding='same', input_shape=(686, 1), activation='hard_sigmoid'))\n",
    "model.add(MaxPooling1D(pool_size=2))\n",
    "#model.add(Dropout(0.1))\n",
    "\n",
    "model.add(Conv1D(32, 3, padding='same', activation='hard_sigmoid'))\n",
    "model.add(MaxPooling1D(pool_size=2))\n",
    "#model.add(Dropout(0.2))\n",
    "\n",
    "model.add(Conv1D(32, 3, padding='same', activation='hard_sigmoid'))\n",
    "model.add(MaxPooling1D(pool_size=2))\n",
    "#model.add(Dropout(0.3))\n",
    "\n",
    "model.add(Conv1D(32, 3, padding='same', activation='hard_sigmoid'))\n",
    "model.add(MaxPooling1D(pool_size=2))\n",
    "#model.add(Dropout(0.5))\n",
    "\n",
    "model.add(Flatten())\n",
    "model.add(Dense(500, activation='hard_sigmoid'))\n",
    "#model.add(Dropout(0.4))\n",
    "model.add(Dense(500, activation='hard_sigmoid'))\n",
    "model.add(Dense(num_classes, activation='sigmoid'))"
   ]
  },
  {
   "cell_type": "code",
   "execution_count": 58,
   "metadata": {
    "pycharm": {}
   },
   "outputs": [],
   "source": [
    "#opt = RMSprop(lr=0.2)\n",
    "opt = SGD(lr=learning_rate, momentum=0.9, decay=decay_rate, nesterov=True)\n",
    "model.compile(loss='mean_squared_error', optimizer=opt, metrics=['accuracy'])"
   ]
  },
  {
   "cell_type": "code",
   "execution_count": 33,
   "metadata": {
    "pycharm": {}
   },
   "outputs": [],
   "source": [
    "X_train_small = np.expand_dims(X_train, axis=2)[0:686, :, :]"
   ]
  },
  {
   "cell_type": "code",
   "execution_count": 59,
   "metadata": {
    "pycharm": {}
   },
   "outputs": [],
   "source": [
    "X_train_finall = np.expand_dims(X_train, axis=2)"
   ]
  },
  {
   "cell_type": "code",
   "execution_count": 47,
   "metadata": {
    "pycharm": {}
   },
   "outputs": [
    {
     "data": {
      "text/plain": [
       "(686,)"
      ]
     },
     "execution_count": 47,
     "metadata": {},
     "output_type": "execute_result"
    }
   ],
   "source": [
    "y.head(686).shape"
   ]
  },
  {
   "cell_type": "code",
   "execution_count": 53,
   "metadata": {
    "pycharm": {}
   },
   "outputs": [],
   "source": [
    "train_data = pd.DataFrame(X_train_finall[:, :, 0])"
   ]
  },
  {
   "cell_type": "code",
   "execution_count": 61,
   "metadata": {
    "pycharm": {},
    "scrolled": true
   },
   "outputs": [
    {
     "name": "stdout",
     "output_type": "stream",
     "text": [
      "Epoch 1/10\n",
      "299680/299680 [==============================] - 236s 788us/step - loss: 0.2482 - acc: 0.5476\n",
      "Epoch 2/10\n",
      "299680/299680 [==============================] - 243s 812us/step - loss: 0.2477 - acc: 0.5513\n",
      "Epoch 3/10\n",
      "299680/299680 [==============================] - 239s 799us/step - loss: 0.2476 - acc: 0.5517\n",
      "Epoch 4/10\n",
      "299680/299680 [==============================] - 234s 780us/step - loss: 0.2475 - acc: 0.5517\n",
      "Epoch 5/10\n",
      "299680/299680 [==============================] - 237s 790us/step - loss: 0.2475 - acc: 0.5517\n",
      "Epoch 6/10\n",
      " 71552/299680 [======>.......................] - ETA: 3:10 - loss: 0.2477 - acc: 0.5494"
     ]
    },
    {
     "ename": "KeyboardInterrupt",
     "evalue": "",
     "output_type": "error",
     "traceback": [
      "\u001b[0;31m---------------------------------------------------------------------------\u001b[0m",
      "\u001b[0;31mKeyboardInterrupt\u001b[0m                         Traceback (most recent call last)",
      "\u001b[0;32m<ipython-input-61-e8e85935070d>\u001b[0m in \u001b[0;36m<module>\u001b[0;34m()\u001b[0m\n\u001b[0;32m----> 1\u001b[0;31m \u001b[0mhistory\u001b[0m \u001b[0;34m=\u001b[0m \u001b[0mmodel\u001b[0m\u001b[0;34m.\u001b[0m\u001b[0mfit\u001b[0m\u001b[0;34m(\u001b[0m\u001b[0mX_train_finall\u001b[0m\u001b[0;34m,\u001b[0m \u001b[0my\u001b[0m\u001b[0;34m,\u001b[0m \u001b[0mbatch_size\u001b[0m\u001b[0;34m=\u001b[0m\u001b[0mbatch_size\u001b[0m\u001b[0;34m,\u001b[0m \u001b[0mepochs\u001b[0m\u001b[0;34m=\u001b[0m\u001b[0mnepochs\u001b[0m\u001b[0;34m)\u001b[0m\u001b[0;34m\u001b[0m\u001b[0m\n\u001b[0m",
      "\u001b[0;32m~/PycharmProjects/SUS/lab1/venv/lib/python3.5/site-packages/keras/models.py\u001b[0m in \u001b[0;36mfit\u001b[0;34m(self, x, y, batch_size, epochs, verbose, callbacks, validation_split, validation_data, shuffle, class_weight, sample_weight, initial_epoch, steps_per_epoch, validation_steps, **kwargs)\u001b[0m\n\u001b[1;32m   1000\u001b[0m                               \u001b[0minitial_epoch\u001b[0m\u001b[0;34m=\u001b[0m\u001b[0minitial_epoch\u001b[0m\u001b[0;34m,\u001b[0m\u001b[0;34m\u001b[0m\u001b[0m\n\u001b[1;32m   1001\u001b[0m                               \u001b[0msteps_per_epoch\u001b[0m\u001b[0;34m=\u001b[0m\u001b[0msteps_per_epoch\u001b[0m\u001b[0;34m,\u001b[0m\u001b[0;34m\u001b[0m\u001b[0m\n\u001b[0;32m-> 1002\u001b[0;31m                               validation_steps=validation_steps)\n\u001b[0m\u001b[1;32m   1003\u001b[0m \u001b[0;34m\u001b[0m\u001b[0m\n\u001b[1;32m   1004\u001b[0m     def evaluate(self, x=None, y=None,\n",
      "\u001b[0;32m~/PycharmProjects/SUS/lab1/venv/lib/python3.5/site-packages/keras/engine/training.py\u001b[0m in \u001b[0;36mfit\u001b[0;34m(self, x, y, batch_size, epochs, verbose, callbacks, validation_split, validation_data, shuffle, class_weight, sample_weight, initial_epoch, steps_per_epoch, validation_steps, **kwargs)\u001b[0m\n\u001b[1;32m   1703\u001b[0m                               \u001b[0minitial_epoch\u001b[0m\u001b[0;34m=\u001b[0m\u001b[0minitial_epoch\u001b[0m\u001b[0;34m,\u001b[0m\u001b[0;34m\u001b[0m\u001b[0m\n\u001b[1;32m   1704\u001b[0m                               \u001b[0msteps_per_epoch\u001b[0m\u001b[0;34m=\u001b[0m\u001b[0msteps_per_epoch\u001b[0m\u001b[0;34m,\u001b[0m\u001b[0;34m\u001b[0m\u001b[0m\n\u001b[0;32m-> 1705\u001b[0;31m                               validation_steps=validation_steps)\n\u001b[0m\u001b[1;32m   1706\u001b[0m \u001b[0;34m\u001b[0m\u001b[0m\n\u001b[1;32m   1707\u001b[0m     def evaluate(self, x=None, y=None,\n",
      "\u001b[0;32m~/PycharmProjects/SUS/lab1/venv/lib/python3.5/site-packages/keras/engine/training.py\u001b[0m in \u001b[0;36m_fit_loop\u001b[0;34m(self, f, ins, out_labels, batch_size, epochs, verbose, callbacks, val_f, val_ins, shuffle, callback_metrics, initial_epoch, steps_per_epoch, validation_steps)\u001b[0m\n\u001b[1;32m   1234\u001b[0m                         \u001b[0mins_batch\u001b[0m\u001b[0;34m[\u001b[0m\u001b[0mi\u001b[0m\u001b[0;34m]\u001b[0m \u001b[0;34m=\u001b[0m \u001b[0mins_batch\u001b[0m\u001b[0;34m[\u001b[0m\u001b[0mi\u001b[0m\u001b[0;34m]\u001b[0m\u001b[0;34m.\u001b[0m\u001b[0mtoarray\u001b[0m\u001b[0;34m(\u001b[0m\u001b[0;34m)\u001b[0m\u001b[0;34m\u001b[0m\u001b[0m\n\u001b[1;32m   1235\u001b[0m \u001b[0;34m\u001b[0m\u001b[0m\n\u001b[0;32m-> 1236\u001b[0;31m                     \u001b[0mouts\u001b[0m \u001b[0;34m=\u001b[0m \u001b[0mf\u001b[0m\u001b[0;34m(\u001b[0m\u001b[0mins_batch\u001b[0m\u001b[0;34m)\u001b[0m\u001b[0;34m\u001b[0m\u001b[0m\n\u001b[0m\u001b[1;32m   1237\u001b[0m                     \u001b[0;32mif\u001b[0m \u001b[0;32mnot\u001b[0m \u001b[0misinstance\u001b[0m\u001b[0;34m(\u001b[0m\u001b[0mouts\u001b[0m\u001b[0;34m,\u001b[0m \u001b[0mlist\u001b[0m\u001b[0;34m)\u001b[0m\u001b[0;34m:\u001b[0m\u001b[0;34m\u001b[0m\u001b[0m\n\u001b[1;32m   1238\u001b[0m                         \u001b[0mouts\u001b[0m \u001b[0;34m=\u001b[0m \u001b[0;34m[\u001b[0m\u001b[0mouts\u001b[0m\u001b[0;34m]\u001b[0m\u001b[0;34m\u001b[0m\u001b[0m\n",
      "\u001b[0;32m~/PycharmProjects/SUS/lab1/venv/lib/python3.5/site-packages/keras/backend/tensorflow_backend.py\u001b[0m in \u001b[0;36m__call__\u001b[0;34m(self, inputs)\u001b[0m\n\u001b[1;32m   2480\u001b[0m         \u001b[0msession\u001b[0m \u001b[0;34m=\u001b[0m \u001b[0mget_session\u001b[0m\u001b[0;34m(\u001b[0m\u001b[0;34m)\u001b[0m\u001b[0;34m\u001b[0m\u001b[0m\n\u001b[1;32m   2481\u001b[0m         updated = session.run(fetches=fetches, feed_dict=feed_dict,\n\u001b[0;32m-> 2482\u001b[0;31m                               **self.session_kwargs)\n\u001b[0m\u001b[1;32m   2483\u001b[0m         \u001b[0;32mreturn\u001b[0m \u001b[0mupdated\u001b[0m\u001b[0;34m[\u001b[0m\u001b[0;34m:\u001b[0m\u001b[0mlen\u001b[0m\u001b[0;34m(\u001b[0m\u001b[0mself\u001b[0m\u001b[0;34m.\u001b[0m\u001b[0moutputs\u001b[0m\u001b[0;34m)\u001b[0m\u001b[0;34m]\u001b[0m\u001b[0;34m\u001b[0m\u001b[0m\n\u001b[1;32m   2484\u001b[0m \u001b[0;34m\u001b[0m\u001b[0m\n",
      "\u001b[0;32m~/PycharmProjects/SUS/lab1/venv/lib/python3.5/site-packages/tensorflow/python/client/session.py\u001b[0m in \u001b[0;36mrun\u001b[0;34m(self, fetches, feed_dict, options, run_metadata)\u001b[0m\n\u001b[1;32m    903\u001b[0m     \u001b[0;32mtry\u001b[0m\u001b[0;34m:\u001b[0m\u001b[0;34m\u001b[0m\u001b[0m\n\u001b[1;32m    904\u001b[0m       result = self._run(None, fetches, feed_dict, options_ptr,\n\u001b[0;32m--> 905\u001b[0;31m                          run_metadata_ptr)\n\u001b[0m\u001b[1;32m    906\u001b[0m       \u001b[0;32mif\u001b[0m \u001b[0mrun_metadata\u001b[0m\u001b[0;34m:\u001b[0m\u001b[0;34m\u001b[0m\u001b[0m\n\u001b[1;32m    907\u001b[0m         \u001b[0mproto_data\u001b[0m \u001b[0;34m=\u001b[0m \u001b[0mtf_session\u001b[0m\u001b[0;34m.\u001b[0m\u001b[0mTF_GetBuffer\u001b[0m\u001b[0;34m(\u001b[0m\u001b[0mrun_metadata_ptr\u001b[0m\u001b[0;34m)\u001b[0m\u001b[0;34m\u001b[0m\u001b[0m\n",
      "\u001b[0;32m~/PycharmProjects/SUS/lab1/venv/lib/python3.5/site-packages/tensorflow/python/client/session.py\u001b[0m in \u001b[0;36m_run\u001b[0;34m(self, handle, fetches, feed_dict, options, run_metadata)\u001b[0m\n\u001b[1;32m   1138\u001b[0m     \u001b[0;32mif\u001b[0m \u001b[0mfinal_fetches\u001b[0m \u001b[0;32mor\u001b[0m \u001b[0mfinal_targets\u001b[0m \u001b[0;32mor\u001b[0m \u001b[0;34m(\u001b[0m\u001b[0mhandle\u001b[0m \u001b[0;32mand\u001b[0m \u001b[0mfeed_dict_tensor\u001b[0m\u001b[0;34m)\u001b[0m\u001b[0;34m:\u001b[0m\u001b[0;34m\u001b[0m\u001b[0m\n\u001b[1;32m   1139\u001b[0m       results = self._do_run(handle, final_targets, final_fetches,\n\u001b[0;32m-> 1140\u001b[0;31m                              feed_dict_tensor, options, run_metadata)\n\u001b[0m\u001b[1;32m   1141\u001b[0m     \u001b[0;32melse\u001b[0m\u001b[0;34m:\u001b[0m\u001b[0;34m\u001b[0m\u001b[0m\n\u001b[1;32m   1142\u001b[0m       \u001b[0mresults\u001b[0m \u001b[0;34m=\u001b[0m \u001b[0;34m[\u001b[0m\u001b[0;34m]\u001b[0m\u001b[0;34m\u001b[0m\u001b[0m\n",
      "\u001b[0;32m~/PycharmProjects/SUS/lab1/venv/lib/python3.5/site-packages/tensorflow/python/client/session.py\u001b[0m in \u001b[0;36m_do_run\u001b[0;34m(self, handle, target_list, fetch_list, feed_dict, options, run_metadata)\u001b[0m\n\u001b[1;32m   1319\u001b[0m     \u001b[0;32mif\u001b[0m \u001b[0mhandle\u001b[0m \u001b[0;32mis\u001b[0m \u001b[0;32mNone\u001b[0m\u001b[0;34m:\u001b[0m\u001b[0;34m\u001b[0m\u001b[0m\n\u001b[1;32m   1320\u001b[0m       return self._do_call(_run_fn, feeds, fetches, targets, options,\n\u001b[0;32m-> 1321\u001b[0;31m                            run_metadata)\n\u001b[0m\u001b[1;32m   1322\u001b[0m     \u001b[0;32melse\u001b[0m\u001b[0;34m:\u001b[0m\u001b[0;34m\u001b[0m\u001b[0m\n\u001b[1;32m   1323\u001b[0m       \u001b[0;32mreturn\u001b[0m \u001b[0mself\u001b[0m\u001b[0;34m.\u001b[0m\u001b[0m_do_call\u001b[0m\u001b[0;34m(\u001b[0m\u001b[0m_prun_fn\u001b[0m\u001b[0;34m,\u001b[0m \u001b[0mhandle\u001b[0m\u001b[0;34m,\u001b[0m \u001b[0mfeeds\u001b[0m\u001b[0;34m,\u001b[0m \u001b[0mfetches\u001b[0m\u001b[0;34m)\u001b[0m\u001b[0;34m\u001b[0m\u001b[0m\n",
      "\u001b[0;32m~/PycharmProjects/SUS/lab1/venv/lib/python3.5/site-packages/tensorflow/python/client/session.py\u001b[0m in \u001b[0;36m_do_call\u001b[0;34m(self, fn, *args)\u001b[0m\n\u001b[1;32m   1325\u001b[0m   \u001b[0;32mdef\u001b[0m \u001b[0m_do_call\u001b[0m\u001b[0;34m(\u001b[0m\u001b[0mself\u001b[0m\u001b[0;34m,\u001b[0m \u001b[0mfn\u001b[0m\u001b[0;34m,\u001b[0m \u001b[0;34m*\u001b[0m\u001b[0margs\u001b[0m\u001b[0;34m)\u001b[0m\u001b[0;34m:\u001b[0m\u001b[0;34m\u001b[0m\u001b[0m\n\u001b[1;32m   1326\u001b[0m     \u001b[0;32mtry\u001b[0m\u001b[0;34m:\u001b[0m\u001b[0;34m\u001b[0m\u001b[0m\n\u001b[0;32m-> 1327\u001b[0;31m       \u001b[0;32mreturn\u001b[0m \u001b[0mfn\u001b[0m\u001b[0;34m(\u001b[0m\u001b[0;34m*\u001b[0m\u001b[0margs\u001b[0m\u001b[0;34m)\u001b[0m\u001b[0;34m\u001b[0m\u001b[0m\n\u001b[0m\u001b[1;32m   1328\u001b[0m     \u001b[0;32mexcept\u001b[0m \u001b[0merrors\u001b[0m\u001b[0;34m.\u001b[0m\u001b[0mOpError\u001b[0m \u001b[0;32mas\u001b[0m \u001b[0me\u001b[0m\u001b[0;34m:\u001b[0m\u001b[0;34m\u001b[0m\u001b[0m\n\u001b[1;32m   1329\u001b[0m       \u001b[0mmessage\u001b[0m \u001b[0;34m=\u001b[0m \u001b[0mcompat\u001b[0m\u001b[0;34m.\u001b[0m\u001b[0mas_text\u001b[0m\u001b[0;34m(\u001b[0m\u001b[0me\u001b[0m\u001b[0;34m.\u001b[0m\u001b[0mmessage\u001b[0m\u001b[0;34m)\u001b[0m\u001b[0;34m\u001b[0m\u001b[0m\n",
      "\u001b[0;32m~/PycharmProjects/SUS/lab1/venv/lib/python3.5/site-packages/tensorflow/python/client/session.py\u001b[0m in \u001b[0;36m_run_fn\u001b[0;34m(feed_dict, fetch_list, target_list, options, run_metadata)\u001b[0m\n\u001b[1;32m   1310\u001b[0m       \u001b[0mself\u001b[0m\u001b[0;34m.\u001b[0m\u001b[0m_extend_graph\u001b[0m\u001b[0;34m(\u001b[0m\u001b[0;34m)\u001b[0m\u001b[0;34m\u001b[0m\u001b[0m\n\u001b[1;32m   1311\u001b[0m       return self._call_tf_sessionrun(\n\u001b[0;32m-> 1312\u001b[0;31m           options, feed_dict, fetch_list, target_list, run_metadata)\n\u001b[0m\u001b[1;32m   1313\u001b[0m \u001b[0;34m\u001b[0m\u001b[0m\n\u001b[1;32m   1314\u001b[0m     \u001b[0;32mdef\u001b[0m \u001b[0m_prun_fn\u001b[0m\u001b[0;34m(\u001b[0m\u001b[0mhandle\u001b[0m\u001b[0;34m,\u001b[0m \u001b[0mfeed_dict\u001b[0m\u001b[0;34m,\u001b[0m \u001b[0mfetch_list\u001b[0m\u001b[0;34m)\u001b[0m\u001b[0;34m:\u001b[0m\u001b[0;34m\u001b[0m\u001b[0m\n",
      "\u001b[0;32m~/PycharmProjects/SUS/lab1/venv/lib/python3.5/site-packages/tensorflow/python/client/session.py\u001b[0m in \u001b[0;36m_call_tf_sessionrun\u001b[0;34m(self, options, feed_dict, fetch_list, target_list, run_metadata)\u001b[0m\n\u001b[1;32m   1418\u001b[0m         return tf_session.TF_Run(\n\u001b[1;32m   1419\u001b[0m             \u001b[0mself\u001b[0m\u001b[0;34m.\u001b[0m\u001b[0m_session\u001b[0m\u001b[0;34m,\u001b[0m \u001b[0moptions\u001b[0m\u001b[0;34m,\u001b[0m \u001b[0mfeed_dict\u001b[0m\u001b[0;34m,\u001b[0m \u001b[0mfetch_list\u001b[0m\u001b[0;34m,\u001b[0m \u001b[0mtarget_list\u001b[0m\u001b[0;34m,\u001b[0m\u001b[0;34m\u001b[0m\u001b[0m\n\u001b[0;32m-> 1420\u001b[0;31m             status, run_metadata)\n\u001b[0m\u001b[1;32m   1421\u001b[0m \u001b[0;34m\u001b[0m\u001b[0m\n\u001b[1;32m   1422\u001b[0m   \u001b[0;32mdef\u001b[0m \u001b[0m_call_tf_sessionprun\u001b[0m\u001b[0;34m(\u001b[0m\u001b[0mself\u001b[0m\u001b[0;34m,\u001b[0m \u001b[0mhandle\u001b[0m\u001b[0;34m,\u001b[0m \u001b[0mfeed_dict\u001b[0m\u001b[0;34m,\u001b[0m \u001b[0mfetch_list\u001b[0m\u001b[0;34m)\u001b[0m\u001b[0;34m:\u001b[0m\u001b[0;34m\u001b[0m\u001b[0m\n",
      "\u001b[0;31mKeyboardInterrupt\u001b[0m: "
     ]
    }
   ],
   "source": [
    "history = model.fit(X_train_finall, y, batch_size=batch_size, epochs=nepochs)"
   ]
  },
  {
   "cell_type": "code",
   "execution_count": 91,
   "metadata": {
    "pycharm": {}
   },
   "outputs": [
    {
     "data": {
      "image/png": "[encoded data removed]",
      "text/plain": [
       "<Figure size 432x288 with 1 Axes>"
      ]
     },
     "metadata": {},
     "output_type": "display_data"
    }
   ],
   "source": [
    "%matplotlib inline \n",
    "plt.plot(history.history['loss'])\n",
    "#plt.plot(history.history['val_loss'])\n",
    "plt.grid()\n",
    "plt.legend(['train', 'test'], loc='upper left')\n",
    "plt.title('model loss')\n",
    "plt.xlabel(\"epoch\")\n",
    "plt.ylabel(\"loss\")\n",
    "plt.show()"
   ]
  },
  {
   "cell_type": "code",
   "execution_count": 81,
   "metadata": {
    "pycharm": {},
    "scrolled": true
   },
   "outputs": [
    {
     "name": "stdout",
     "output_type": "stream",
     "text": [
      "Abyssal Enforcer        0\n",
      "Acherus Veteran         0\n",
      "Acidic Swamp Ooze       0\n",
      "Acolyte of Agony        2\n",
      "Acolyte of Pain         0\n",
      "Al'Akir the Windlord    0\n",
      "Alleycat                0\n",
      "Aluneth                 0\n",
      "Ancestral Healing       0\n",
      "Animal Companion        0\n",
      "Annoy-o-Tron            0\n",
      "Antique Healbot         0\n",
      "Arcane Blast            0\n",
      "Arcane Explosion        0\n",
      "Arcane Giant            0\n",
      "Arcane Intellect        0\n",
      "Arcane Missiles         0\n",
      "Arcane Shot             0\n",
      "Arcanite Reaper         0\n",
      "Arcanologist            0\n",
      "Archmage                0\n",
      "Archmage Antonidas      0\n",
      "Argent Commander        0\n",
      "Argent Horserider       0\n",
      "Argent Squire           0\n",
      "Armorsmith              0\n",
      "Assassin's Blade        0\n",
      "Assassinate             0\n",
      "Astral Communion        0\n",
      "Aya Blackpaw            0\n",
      "                       ..\n",
      "Voidwalker              0\n",
      "Volcanic Potion         0\n",
      "Volcano                 0\n",
      "Voodoo Doctor           0\n",
      "Vulgar Homunculus       0\n",
      "Warsong Commander       0\n",
      "Water Elemental         0\n",
      "Wax Elemental           0\n",
      "Whirlwind               2\n",
      "Wild Growth             0\n",
      "Wolfrider               0\n",
      "Worgen Infiltrator      0\n",
      "Wrath                   0\n",
      "Druid                   0\n",
      "Hunter                  0\n",
      "Mage                    0\n",
      "Paladin                 0\n",
      "Priest                  0\n",
      "Rogue                   0\n",
      "Shaman                  0\n",
      "Warlock                 0\n",
      "Warrior                 1\n",
      "A1                      1\n",
      "A2                      0\n",
      "B1                      0\n",
      "B2                      0\n",
      "A1                      1\n",
      "A2                      0\n",
      "B1                      0\n",
      "B2                      0\n",
      "Length: 686, dtype: int64\n",
      "(686,)\n"
     ]
    }
   ],
   "source": [
    "bots = ['A1', 'A2', 'B1', 'B2']\n",
    "to_count = pd.concat([result.iloc[10], decks.iloc[10], pd.Series([1, 0, 0, 0, 1, 0, 0, 0], index=2*bots)])\n",
    "print(to_count)\n",
    "print(to_count.shape)"
   ]
  },
  {
   "cell_type": "code",
   "execution_count": 92,
   "metadata": {
    "pycharm": {}
   },
   "outputs": [],
   "source": [
    "results = model.predict_proba(np.expand_dims(to_count, axis=1).reshape(1, 686, 1))"
   ]
  },
  {
   "cell_type": "code",
   "execution_count": 93,
   "metadata": {
    "pycharm": {}
   },
   "outputs": [
    {
     "name": "stdout",
     "output_type": "stream",
     "text": [
      "[[1.]]\n"
     ]
    }
   ],
   "source": [
    "print(results)"
   ]
  },
  {
   "cell_type": "markdown",
   "metadata": {
    "pycharm": {}
   },
   "source": [
    "Let's try with lower dimensions"
   ]
  },
  {
   "cell_type": "code",
   "execution_count": 126,
   "metadata": {
    "pycharm": {}
   },
   "outputs": [
    {
     "name": "stdout",
     "output_type": "stream",
     "text": [
      "[t-SNE] Computing 76 nearest neighbors...\n"
     ]
    }
   ],
   "source": [
    "from sklearn.manifold import TSNE\n",
    "\n",
    "tsne = TSNE(n_components=2, verbose=1, perplexity=25, n_iter=300)\n",
    "tsne_results = tsne.fit_transform(train_data)"
   ]
  },
  {
   "cell_type": "code",
   "execution_count": null,
   "metadata": {
    "pycharm": {}
   },
   "outputs": [],
   "source": [
    "from ggplot import *\n",
    "\n",
    "df_tsne = train_data.copy()\n",
    "df_tsne['x-tsne'] = tsne_results[:, 0]\n",
    "df_tsne['y-tsne'] = tsne_results[:, 1]\n",
    "\n",
    "chart = ggplot(df_tsne, aes(x='x-tsne', y='y-tsne', color='label')) \\\n",
    "        + geom_point(size=70, alpha=0.1) \\\n",
    "        + ggtitle(\"tSNE dimensions colored by digit\")\n",
    "chart\n"
   ]
  }
 ],
 "metadata": {
  "kernelspec": {
   "display_name": "Python 3",
   "language": "python",
   "name": "python3"
  },
  "language_info": {
   "codemirror_mode": {
    "name": "ipython",
    "version": 3
   },
   "file_extension": ".py",
   "mimetype": "text/x-python",
   "name": "python",
   "nbconvert_exporter": "python",
   "pygments_lexer": "ipython3",
   "version": "3.6.7"
  }
 },
 "nbformat": 4,
 "nbformat_minor": 1
}
